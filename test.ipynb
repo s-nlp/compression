{
 "cells": [
  {
   "cell_type": "code",
   "execution_count": 2,
   "metadata": {},
   "outputs": [],
   "source": [
    "import torch\n",
    "from transformers import BertTokenizer, AutoConfig, BertForSequenceClassification\n",
    "from utils.modeling import BertForSpanClassification\n",
    "from utils.super_glue_data_utils import superglue_convert_examples_to_features, RecordProcessor\n",
    "from utils.data_utils import SuperGLUEDataset\n",
    "from transformers.utils import logging\n",
    "\n",
    "logging.set_verbosity_error()"
   ]
  },
  {
   "cell_type": "code",
   "execution_count": 6,
   "metadata": {},
   "outputs": [],
   "source": [
    "config = AutoConfig.from_pretrained(pretrained_model_name_or_path='bert-base-uncased', num_labels=2)\n",
    "config.num_spans = 2\n",
    "tokenizer = BertTokenizer.from_pretrained('bert-base-uncased')\n",
    "model = BertForSpanClassification.from_pretrained(pretrained_model_name_or_path='/home/moskovskiy/workspace/nlp/compression/superglue_models/bert-base-uncased_None_150/wsc', config=config)\n",
    "model = model.train().cuda()"
   ]
  },
  {
   "cell_type": "code",
   "execution_count": 8,
   "metadata": {},
   "outputs": [],
   "source": [
    "processor = WscProcessor()\n",
    "examples = processor.get_dev_examples('data/WSC/')\n",
    "labels = processor.get_labels()\n",
    "features = superglue_convert_examples_to_features(examples, tokenizer, task='wsc', max_length=150)\n",
    "all_guids = torch.tensor([f.guid for f in features], dtype=torch.long)\n",
    "all_input_ids = torch.tensor([f.input_ids for f in features], dtype=torch.long)\n",
    "all_attention_mask = torch.tensor(\n",
    "    [f.attention_mask for f in features], dtype=torch.long\n",
    ")\n",
    "all_token_type_ids = torch.tensor(\n",
    "    [f.token_type_ids for f in features], dtype=torch.long\n",
    ")\n",
    "all_labels = torch.tensor([f.label for f in features], dtype=torch.long)\n",
    "all_spans = torch.tensor([f.span_locs for f in features])\n",
    "dataset = SuperGLUEDataset(\n",
    "            input_ids=all_input_ids,\n",
    "            attention_masks=all_attention_mask,\n",
    "            token_type_ids=all_token_type_ids,\n",
    "            labels=all_labels,\n",
    "            span_cl=True,\n",
    "            spans=all_spans,\n",
    "            guids=all_guids,\n",
    "        )"
   ]
  },
  {
   "cell_type": "code",
   "execution_count": 9,
   "metadata": {},
   "outputs": [],
   "source": [
    "results = []\n",
    "for sample in dataset:\n",
    "    out = model(**{k: v.unsqueeze(0).cuda() for k, v in sample.items() if k != \"guid\"})\n",
    "    results.append(out)"
   ]
  },
  {
   "cell_type": "code",
   "execution_count": 16,
   "metadata": {},
   "outputs": [],
   "source": [
    "preds = [x[1].argmax(-1).item() for x in results]"
   ]
  },
  {
   "cell_type": "code",
   "execution_count": 20,
   "metadata": {},
   "outputs": [],
   "source": [
    "labels = [f.label for f in features]"
   ]
  },
  {
   "cell_type": "code",
   "execution_count": 22,
   "metadata": {},
   "outputs": [],
   "source": [
    "from sklearn.metrics import accuracy_score, f1_score"
   ]
  },
  {
   "cell_type": "code",
   "execution_count": 26,
   "metadata": {},
   "outputs": [
    {
     "data": {
      "text/plain": [
       "0.5288461538461539"
      ]
     },
     "execution_count": 26,
     "metadata": {},
     "output_type": "execute_result"
    }
   ],
   "source": [
    "accuracy_score(labels, preds)"
   ]
  },
  {
   "cell_type": "code",
   "execution_count": 27,
   "metadata": {},
   "outputs": [
    {
     "data": {
      "text/plain": [
       "0.6573426573426574"
      ]
     },
     "execution_count": 27,
     "metadata": {},
     "output_type": "execute_result"
    }
   ],
   "source": [
    "f1_score(labels, preds)"
   ]
  },
  {
   "cell_type": "code",
   "execution_count": 34,
   "metadata": {},
   "outputs": [],
   "source": [
    "import numpy as np\n",
    "arr = np.load('preds.txt.npy')"
   ]
  },
  {
   "cell_type": "code",
   "execution_count": 47,
   "metadata": {},
   "outputs": [
    {
     "data": {
      "text/plain": [
       "array([0, 0, 0, 0, 0, 0, 0, 0, 0, 0, 0, 0, 0, 0, 0, 0, 0, 0, 0, 0, 0, 0,\n",
       "       0, 0, 0, 0, 0, 0, 0, 0, 0, 0, 0, 0, 0, 0, 0, 0, 0, 0, 0, 0, 0, 0,\n",
       "       0, 0, 0, 0, 0, 0, 0, 0, 0, 0, 0, 0, 0, 0, 0, 0, 0, 0, 0, 0, 0, 0,\n",
       "       0, 0, 0, 0, 0, 0, 0, 0, 0, 0, 0, 0, 0, 0, 0, 0, 0, 0, 0, 0, 0, 0,\n",
       "       0, 0, 0, 0, 0, 0, 0, 0, 0, 0, 0, 0, 0, 0, 0, 0])"
      ]
     },
     "execution_count": 47,
     "metadata": {},
     "output_type": "execute_result"
    }
   ],
   "source": [
    "np.argmax(arr, -1)"
   ]
  },
  {
   "attachments": {},
   "cell_type": "markdown",
   "metadata": {},
   "source": [
    "**Record Debug**"
   ]
  },
  {
   "cell_type": "code",
   "execution_count": 16,
   "metadata": {},
   "outputs": [],
   "source": [
    "import torch\n",
    "from transformers import BertTokenizer, AutoConfig, BertForSequenceClassification\n",
    "from utils.modeling import BertForSpanClassification\n",
    "from utils.super_glue_data_utils import superglue_convert_examples_to_features, RecordProcessor\n",
    "from utils.data_utils import SuperGLUEDataset\n",
    "from transformers.utils import logging\n",
    "\n",
    "logging.set_verbosity_error()"
   ]
  },
  {
   "cell_type": "code",
   "execution_count": 40,
   "metadata": {},
   "outputs": [],
   "source": [
    "config = AutoConfig.from_pretrained(pretrained_model_name_or_path='bert-base-uncased', num_labels=2)\n",
    "tokenizer = BertTokenizer.from_pretrained('bert-base-uncased')\n",
    "model = BertForSequenceClassification.from_pretrained(pretrained_model_name_or_path='superglue_models/bert-base-uncased-svd-ffn-310/record/checkpoint-49000', config=config)\n",
    "model = model.eval().cuda(1)"
   ]
  },
  {
   "cell_type": "code",
   "execution_count": 41,
   "metadata": {},
   "outputs": [],
   "source": [
    "processor = RecordProcessor()\n",
    "examples = processor.get_dev_examples('data/ReCoRD_small/')\n",
    "answers = processor.get_answers('data/ReCoRD_small/', 'dev')\n",
    "labels = processor.get_labels()\n",
    "features = superglue_convert_examples_to_features(examples, tokenizer, task='wsc', max_length=450)\n",
    "all_guids = torch.tensor([f.guid for f in features], dtype=torch.long)\n",
    "all_input_ids = torch.tensor([f.input_ids for f in features], dtype=torch.long)\n",
    "all_attention_mask = torch.tensor(\n",
    "    [f.attention_mask for f in features], dtype=torch.long\n",
    ")\n",
    "all_token_type_ids = torch.tensor(\n",
    "    [f.token_type_ids for f in features], dtype=torch.long\n",
    ")\n",
    "all_labels = torch.tensor([f.label for f in features], dtype=torch.long)\n",
    "# all_spans = torch.tensor([f.span_locs for f in features])\n",
    "dataset = SuperGLUEDataset(\n",
    "            input_ids=all_input_ids,\n",
    "            attention_masks=all_attention_mask,\n",
    "            token_type_ids=all_token_type_ids,\n",
    "            labels=all_labels,\n",
    "            span_cl=False,\n",
    "            # spans=all_spans,\n",
    "            guids=all_guids,\n",
    "        )"
   ]
  },
  {
   "cell_type": "code",
   "execution_count": 42,
   "metadata": {},
   "outputs": [
    {
     "data": {
      "text/plain": [
       "InputExample(guid=[0, 0, 0], text_a=\"Tracy Morgan hasn't appeared on stage since the devastating New Jersey crash that nearly ended his life last summer, but all that will change this fall when he returns to host Saturday Night Live. NBC announced on Twitter Monday that Morgan, an SNL alum with seven seasons as a cast member under his belt, will headline the third episode of Season 41 airing October 17. For Morgan, 46, it will be a second time hosting the long-running variety show, the first since the June 2014 pileup on the New Jersey Turnpike that killed his friend and mentor James 'Jimmy Mack' McNair.\\n@highlight\\nMorgan, 46, will host third episode of season 41 of SNL airing October 17\\n@highlight\\nHe tweeted to his fans: 'Stoked to be going home...#SNL'\\n@highlight\\nFor the SNL alum who had spent seven years as cast member, it will be a second time hosting the show\\n@highlight\\nMorgan has been sidelined by severe head trauma suffered in deadly June 2014 crash on New Jersey Turnpike that killed his friend\\n@highlight\\nFirst episode of new SNL season will be hosted by Miley Cyrus, followed by Amy Schumer\", text_b='On October 10, acclaimed comedian and star of the summer box office hit Trainwreck Amy Schumer will make her SNL debut, followed by Tracy Morgan a week later.', label=1)"
      ]
     },
     "execution_count": 42,
     "metadata": {},
     "output_type": "execute_result"
    }
   ],
   "source": [
    "examples[0]"
   ]
  },
  {
   "cell_type": "code",
   "execution_count": 43,
   "metadata": {},
   "outputs": [],
   "source": [
    "results = []\n",
    "with torch.no_grad():\n",
    "    for sample in dataset:\n",
    "        out = model(**{k: v.unsqueeze(0).cuda(1) for k, v in sample.items() if k != \"guid\"})\n",
    "        results.append(out) "
   ]
  },
  {
   "cell_type": "code",
   "execution_count": 51,
   "metadata": {},
   "outputs": [],
   "source": [
    "preds = [x.logits.argmax(1).item() for x in results]"
   ]
  },
  {
   "cell_type": "code",
   "execution_count": 45,
   "metadata": {},
   "outputs": [
    {
     "data": {
      "text/plain": [
       "{0}"
      ]
     },
     "execution_count": 45,
     "metadata": {},
     "output_type": "execute_result"
    }
   ],
   "source": [
    "set(preds)"
   ]
  },
  {
   "cell_type": "code",
   "execution_count": 46,
   "metadata": {},
   "outputs": [],
   "source": [
    "label = [e['labels'].item() for e in dataset]"
   ]
  },
  {
   "cell_type": "code",
   "execution_count": 47,
   "metadata": {},
   "outputs": [],
   "source": [
    "from sklearn.metrics import accuracy_score, f1_score"
   ]
  },
  {
   "cell_type": "code",
   "execution_count": 49,
   "metadata": {},
   "outputs": [
    {
     "name": "stdout",
     "output_type": "stream",
     "text": [
      "0.14252961406190295\n",
      "0.8574703859380971\n"
     ]
    }
   ],
   "source": [
    "print(accuracy_score(label, preds))\n",
    "print(accuracy_score(label, [1 for _ in range(len(label))]))"
   ]
  },
  {
   "cell_type": "code",
   "execution_count": 50,
   "metadata": {},
   "outputs": [
    {
     "data": {
      "text/plain": [
       "0.0"
      ]
     },
     "execution_count": 50,
     "metadata": {},
     "output_type": "execute_result"
    }
   ],
   "source": [
    "f1_score(label, preds)"
   ]
  },
  {
   "cell_type": "code",
   "execution_count": null,
   "metadata": {},
   "outputs": [],
   "source": []
  }
 ],
 "metadata": {
  "kernelspec": {
   "display_name": "tc",
   "language": "python",
   "name": "python3"
  },
  "language_info": {
   "codemirror_mode": {
    "name": "ipython",
    "version": 3
   },
   "file_extension": ".py",
   "mimetype": "text/x-python",
   "name": "python",
   "nbconvert_exporter": "python",
   "pygments_lexer": "ipython3",
   "version": "3.10.8"
  },
  "orig_nbformat": 4,
  "vscode": {
   "interpreter": {
    "hash": "39131c8ef7df3c93eb396f46fcd465d060882e79e204152730679d38084e79e1"
   }
  }
 },
 "nbformat": 4,
 "nbformat_minor": 2
}
