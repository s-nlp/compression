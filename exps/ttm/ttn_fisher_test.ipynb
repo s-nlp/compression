{
 "cells": [
  {
   "cell_type": "code",
   "execution_count": 1,
   "id": "2f830e0b-e698-4c2f-8d84-c39b138f1eb8",
   "metadata": {},
   "outputs": [],
   "source": [
    "from TTLinear import TTLinear"
   ]
  },
  {
   "cell_type": "code",
   "execution_count": 2,
   "id": "f3324a41-c086-482d-9ad3-fd72783c75ce",
   "metadata": {},
   "outputs": [],
   "source": [
    "import torch\n",
    "weights = torch.rand(768, 3072)"
   ]
  },
  {
   "cell_type": "code",
   "execution_count": 17,
   "id": "2ff7d2ff-3b1a-4b6f-9f61-7c505c65df5a",
   "metadata": {},
   "outputs": [],
   "source": [
    "a = TTLinear(in_features = 3072, out_features = 768, ranks =[72, 72, 72] , input_dims = [8, 8, 6, 8], output_dims= [4, 6, 8 ,4])"
   ]
  },
  {
   "cell_type": "code",
   "execution_count": 4,
   "id": "1858904f-12a1-4d9f-b2b5-94d086214272",
   "metadata": {},
   "outputs": [
    {
     "name": "stdout",
     "output_type": "stream",
     "text": [
      "tensor.shape, fisher_tensor.shape ranks torch.Size([32, 48, 48, 32]) torch.Size([32, 48, 48, 32]) [72, 72, 72]\n",
      "self.cores shape [torch.Size([1, 32, 32]), torch.Size([32, 48, 1536]), torch.Size([1536, 48, 32]), torch.Size([32, 32, 1])]\n",
      "self.fcores shape [torch.Size([1, 32, 32]), torch.Size([32, 48, 1536]), torch.Size([1536, 48, 32]), torch.Size([32, 32, 1])]\n",
      "mu 3\n",
      "I unfold shape torch.Size([32, 32])\n",
      "mu 2\n",
      "I unfold shape torch.Size([1536, 1536])\n",
      "mu 1\n",
      "I unfold shape torch.Size([32, 73728])\n"
     ]
    }
   ],
   "source": [
    "dummy_matrix = torch.randn(weights.shape)\n",
    "a.set_weight_with_fisher(weights, dummy_matrix)"
   ]
  },
  {
   "cell_type": "code",
   "execution_count": 5,
   "id": "5aa26f19-fd5b-44a6-a834-70cad2f60a7e",
   "metadata": {},
   "outputs": [
    {
     "name": "stdout",
     "output_type": "stream",
     "text": [
      "tensor([[0., 0., 0., 0., 1., 0., 0., 0., 0., 0., 0., 0., 0., 0., 0., 0., 0., 0.,\n",
      "         0., 0., 0., 0., 0., 0., 0., 0., 0., 0., 0., 0., 0., 0.],\n",
      "        [0., 0., 0., 0., 0., 1., 0., 0., 0., 0., 0., 0., 0., 0., 0., 0., 0., 0.,\n",
      "         0., 0., 0., 0., 0., 0., 0., 0., 0., 0., 0., 0., 0., 0.],\n",
      "        [0., 0., 0., 0., 0., 0., 1., 0., 0., 0., 0., 0., 0., 0., 0., 0., 0., 0.,\n",
      "         0., 0., 0., 0., 0., 0., 0., 0., 0., 0., 0., 0., 0., 0.],\n",
      "        [0., 0., 0., 0., 0., 0., 0., 1., 0., 0., 0., 0., 0., 0., 0., 0., 0., 0.,\n",
      "         0., 0., 0., 0., 0., 0., 0., 0., 0., 0., 0., 0., 0., 0.]])\n",
      "tensor(32.)\n",
      "torch.Size([1, 1024])\n",
      "tensor([32.])\n",
      "\n",
      "\n",
      "tensor([[-0.4371,  0.0148,  0.3389,  ...,  0.9550, -0.0140, -1.5719],\n",
      "        [ 1.3601, -1.5852,  0.2966,  ..., -0.7508, -0.2588, -0.5265],\n",
      "        [ 1.1834, -0.9826, -0.9369,  ..., -0.0181,  0.8647, -1.1700],\n",
      "        [-0.1803, -0.0410,  2.6793,  ...,  0.3652,  1.3062,  1.3158],\n",
      "        [-1.8094, -0.9554,  0.4625,  ...,  0.9075, -1.7894,  0.1916],\n",
      "        [-1.1180, -0.9196, -0.4593,  ...,  1.3148,  1.7492,  0.2594]])\n",
      "tensor(391.7291)\n",
      "torch.Size([32, 73728])\n",
      "tensor([ 461.7107, -232.2535,  277.2390,   63.2064,  352.0658, -156.6673,\n",
      "         374.8746, -184.9115,  -73.5914,   22.8362,   32.2807,  -75.1189,\n",
      "          74.9150,  -99.3969,   59.8813,  294.1242,  175.0719, -547.2870,\n",
      "        -400.6041,   69.6451,  364.1891,  -81.3041,  134.7960, -146.1275,\n",
      "         -54.3672,   71.4772, -226.0589, -155.4502, -186.0991,  105.2686,\n",
      "        -251.0060,  328.3907])\n",
      "\n",
      "\n",
      "tensor([[0., 0., 0., 0., 0., 0., 0., 0., 0., 0., 0., 0., 0., 0., 0., 0., 0., 0., 0., 0., 0., 0., 0., 0.,\n",
      "         0., 0., 0., 0., 0., 0., 0., 0.],\n",
      "        [0., 0., 0., 0., 0., 0., 0., 0., 0., 0., 0., 0., 0., 0., 0., 0., 0., 0., 0., 0., 0., 0., 0., 0.,\n",
      "         0., 0., 0., 0., 0., 0., 0., 0.],\n",
      "        [0., 0., 0., 0., 0., 0., 0., 0., 0., 0., 0., 0., 0., 0., 0., 0., 0., 0., 0., 0., 0., 0., 0., 0.,\n",
      "         0., 0., 0., 0., 0., 0., 0., 0.],\n",
      "        [0., 0., 0., 0., 0., 0., 0., 0., 0., 0., 0., 0., 0., 0., 0., 0., 0., 0., 0., 0., 0., 0., 0., 0.,\n",
      "         0., 0., 0., 0., 0., 0., 0., 0.],\n",
      "        [0., 0., 0., 0., 0., 0., 0., 0., 0., 0., 0., 0., 0., 0., 0., 0., 0., 0., 0., 0., 0., 0., 0., 0.,\n",
      "         0., 0., 0., 0., 0., 0., 0., 0.],\n",
      "        [0., 0., 0., 0., 0., 0., 0., 0., 0., 0., 0., 0., 0., 0., 0., 0., 0., 0., 0., 0., 0., 0., 0., 0.,\n",
      "         0., 0., 0., 0., 0., 0., 0., 0.],\n",
      "        [0., 0., 0., 0., 0., 0., 0., 0., 0., 0., 0., 0., 0., 0., 0., 0., 0., 0., 0., 0., 0., 0., 0., 0.,\n",
      "         0., 0., 0., 0., 0., 0., 0., 0.],\n",
      "        [0., 0., 0., 0., 0., 0., 0., 0., 0., 0., 0., 0., 0., 0., 0., 0., 0., 0., 0., 0., 0., 0., 0., 0.,\n",
      "         0., 0., 0., 0., 0., 0., 0., 0.]])\n",
      "tensor(1536.)\n",
      "torch.Size([1536, 1536])\n",
      "tensor([1., 1., 1.,  ..., 1., 1., 1.])\n",
      "\n",
      "\n",
      "tensor([[0.],\n",
      "        [0.],\n",
      "        [0.],\n",
      "        [0.]])\n",
      "tensor(32.)\n",
      "torch.Size([32, 32])\n",
      "tensor([1., 1., 1., 1., 1., 1., 1., 1., 1., 1., 1., 1., 1., 1., 1., 1., 1., 1.,\n",
      "        1., 1., 1., 1., 1., 1., 1., 1., 1., 1., 1., 1., 1., 1.])\n",
      "\n",
      "\n"
     ]
    }
   ],
   "source": [
    "import tntorch as tn\n",
    "for core in a.weight.fcores:\n",
    "    print (core[0][1])\n",
    "    print (torch.sum(core))\n",
    "    \n",
    "    \n",
    "    IU = tn.right_unfolding(core, batch=False)\n",
    "    print (IU.shape)\n",
    "    print (IU.sum(1))\n",
    "    print (\"\\n\")"
   ]
  },
  {
   "cell_type": "markdown",
   "id": "6674a902-75cf-43db-a57b-a06515955ed4",
   "metadata": {},
   "source": [
    "## Create batch of objects"
   ]
  },
  {
   "cell_type": "code",
   "execution_count": 15,
   "id": "ab6120c8-3a28-4220-a9db-3160143cbcf6",
   "metadata": {},
   "outputs": [
    {
     "data": {
      "text/plain": [
       "torch.Size([1, 100, 3072])"
      ]
     },
     "execution_count": 15,
     "metadata": {},
     "output_type": "execute_result"
    }
   ],
   "source": [
    "b = torch.rand(1, 100, 768)\n",
    "weights = torch.rand(768, 3072)\n",
    "(b@weights).shape"
   ]
  },
  {
   "cell_type": "code",
   "execution_count": 18,
   "id": "d91f612a-0ece-4afc-9d3a-0f3755b55381",
   "metadata": {},
   "outputs": [
    {
     "ename": "RuntimeError",
     "evalue": "shape '[1, 100, 768]' is invalid for input of size 19200",
     "output_type": "error",
     "traceback": [
      "\u001b[0;31m---------------------------------------------------------------------------\u001b[0m",
      "\u001b[0;31mRuntimeError\u001b[0m                              Traceback (most recent call last)",
      "\u001b[0;32m/tmp/ipykernel_12004/3935564971.py\u001b[0m in \u001b[0;36m<module>\u001b[0;34m\u001b[0m\n\u001b[0;32m----> 1\u001b[0;31m \u001b[0ma\u001b[0m\u001b[0;34m(\u001b[0m\u001b[0mb\u001b[0m\u001b[0;34m)\u001b[0m\u001b[0;34m\u001b[0m\u001b[0;34m\u001b[0m\u001b[0m\n\u001b[0m",
      "\u001b[0;32m/opt/.pyenv/versions/3.8.10/lib/python3.8/site-packages/torch/nn/modules/module.py\u001b[0m in \u001b[0;36m_call_impl\u001b[0;34m(self, *input, **kwargs)\u001b[0m\n\u001b[1;32m   1100\u001b[0m         if not (self._backward_hooks or self._forward_hooks or self._forward_pre_hooks or _global_backward_hooks\n\u001b[1;32m   1101\u001b[0m                 or _global_forward_hooks or _global_forward_pre_hooks):\n\u001b[0;32m-> 1102\u001b[0;31m             \u001b[0;32mreturn\u001b[0m \u001b[0mforward_call\u001b[0m\u001b[0;34m(\u001b[0m\u001b[0;34m*\u001b[0m\u001b[0minput\u001b[0m\u001b[0;34m,\u001b[0m \u001b[0;34m**\u001b[0m\u001b[0mkwargs\u001b[0m\u001b[0;34m)\u001b[0m\u001b[0;34m\u001b[0m\u001b[0;34m\u001b[0m\u001b[0m\n\u001b[0m\u001b[1;32m   1103\u001b[0m         \u001b[0;31m# Do not call functions when jit is used\u001b[0m\u001b[0;34m\u001b[0m\u001b[0;34m\u001b[0m\u001b[0;34m\u001b[0m\u001b[0m\n\u001b[1;32m   1104\u001b[0m         \u001b[0mfull_backward_hooks\u001b[0m\u001b[0;34m,\u001b[0m \u001b[0mnon_full_backward_hooks\u001b[0m \u001b[0;34m=\u001b[0m \u001b[0;34m[\u001b[0m\u001b[0;34m]\u001b[0m\u001b[0;34m,\u001b[0m \u001b[0;34m[\u001b[0m\u001b[0;34m]\u001b[0m\u001b[0;34m\u001b[0m\u001b[0;34m\u001b[0m\u001b[0m\n",
      "\u001b[0;32m/notebook/compression/exps/ttm/TTLinear.py\u001b[0m in \u001b[0;36mforward\u001b[0;34m(self, x)\u001b[0m\n\u001b[1;32m     49\u001b[0m \u001b[0;34m\u001b[0m\u001b[0m\n\u001b[1;32m     50\u001b[0m         \u001b[0mnew_shape\u001b[0m \u001b[0;34m=\u001b[0m \u001b[0mx\u001b[0m\u001b[0;34m.\u001b[0m\u001b[0mshape\u001b[0m\u001b[0;34m[\u001b[0m\u001b[0;34m:\u001b[0m\u001b[0;34m-\u001b[0m\u001b[0;36m1\u001b[0m\u001b[0;34m]\u001b[0m \u001b[0;34m+\u001b[0m \u001b[0;34m(\u001b[0m\u001b[0mself\u001b[0m\u001b[0;34m.\u001b[0m\u001b[0mout_features\u001b[0m\u001b[0;34m,\u001b[0m\u001b[0;34m)\u001b[0m\u001b[0;34m\u001b[0m\u001b[0;34m\u001b[0m\u001b[0m\n\u001b[0;32m---> 51\u001b[0;31m         \u001b[0mres\u001b[0m \u001b[0;34m=\u001b[0m \u001b[0mres\u001b[0m\u001b[0;34m.\u001b[0m\u001b[0mreshape\u001b[0m\u001b[0;34m(\u001b[0m\u001b[0;34m*\u001b[0m\u001b[0mnew_shape\u001b[0m\u001b[0;34m)\u001b[0m\u001b[0;34m\u001b[0m\u001b[0;34m\u001b[0m\u001b[0m\n\u001b[0m\u001b[1;32m     52\u001b[0m \u001b[0;34m\u001b[0m\u001b[0m\n\u001b[1;32m     53\u001b[0m         \u001b[0;32mif\u001b[0m \u001b[0mself\u001b[0m\u001b[0;34m.\u001b[0m\u001b[0mbias\u001b[0m \u001b[0;32mis\u001b[0m \u001b[0;32mnot\u001b[0m \u001b[0;32mNone\u001b[0m\u001b[0;34m:\u001b[0m\u001b[0;34m\u001b[0m\u001b[0;34m\u001b[0m\u001b[0m\n",
      "\u001b[0;31mRuntimeError\u001b[0m: shape '[1, 100, 768]' is invalid for input of size 19200"
     ]
    }
   ],
   "source": [
    "a(b)"
   ]
  },
  {
   "cell_type": "code",
   "execution_count": null,
   "id": "6afefb04-e788-4aca-bd99-a63832016674",
   "metadata": {},
   "outputs": [],
   "source": [
    "from ttensor_fisher import CustomTensor\n",
    "\n",
    "tt = CustomTensor(tensor, fisher_tensor, ranks_tt=ranks, batch=self.batch)"
   ]
  }
 ],
 "metadata": {
  "kernelspec": {
   "display_name": "Python 3 (ipykernel)",
   "language": "python",
   "name": "python3"
  },
  "language_info": {
   "codemirror_mode": {
    "name": "ipython",
    "version": 3
   },
   "file_extension": ".py",
   "mimetype": "text/x-python",
   "name": "python",
   "nbconvert_exporter": "python",
   "pygments_lexer": "ipython3",
   "version": "3.8.10"
  }
 },
 "nbformat": 4,
 "nbformat_minor": 5
}
