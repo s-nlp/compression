{
 "cells": [
  {
   "cell_type": "code",
   "execution_count": 2,
   "metadata": {},
   "outputs": [
    {
     "name": "stderr",
     "output_type": "stream",
     "text": [
      "2023-01-19 18:24:40.154802: I tensorflow/stream_executor/platform/default/dso_loader.cc:49] Successfully opened dynamic library libcudart.so.11.0\n"
     ]
    }
   ],
   "source": [
    "from transformers import GPT2Model, GPT2Config, GPT2LMHeadModel\n",
    "from transformers.configuration_utils import PretrainedConfig\n"
   ]
  },
  {
   "cell_type": "code",
   "execution_count": 3,
   "metadata": {},
   "outputs": [
    {
     "name": "stdout",
     "output_type": "stream",
     "text": [
      "Working dir: /notebook/GreenAl\n"
     ]
    }
   ],
   "source": [
    "import pathlib\n",
    "# BASE_DIR will be like '/home/jovyan/DemoExample/'\n",
    "BASE_DIR = pathlib.Path().absolute().parents[0]\n",
    "print(f\"Working dir: {BASE_DIR}\")"
   ]
  },
  {
   "cell_type": "code",
   "execution_count": 13,
   "metadata": {},
   "outputs": [],
   "source": [
    "#BASE_DIR = \"/notebook/greenAl/\""
   ]
  },
  {
   "cell_type": "code",
   "execution_count": 14,
   "metadata": {},
   "outputs": [],
   "source": [
    "def cuda_memory(device, offset: int = 0):\n",
    "    return (torch.cuda.memory_allocated(device) / 2**20)\n",
    "\n",
    "def cuda_peak_memory(device, offset: int = 0):\n",
    "    return (torch.cuda.max_memory_reserved(device) / 2**20)"
   ]
  },
  {
   "cell_type": "code",
   "execution_count": 15,
   "metadata": {},
   "outputs": [],
   "source": [
    "from transformers import GPT2Model, GPT2Config, GPT2LMHeadModel\n",
    "import torch\n",
    "from transformers import GPT2Tokenizer\n",
    "from transformers import DataCollatorForLanguageModeling\n",
    "\n",
    "from datasets import load_dataset\n",
    "from transformers import TextDataset\n",
    "from torch.utils.data import DataLoader, RandomSampler, SequentialSampler"
   ]
  },
  {
   "cell_type": "code",
   "execution_count": 16,
   "metadata": {},
   "outputs": [
    {
     "name": "stderr",
     "output_type": "stream",
     "text": [
      "/opt/.pyenv/versions/3.7.7/lib/python3.7/site-packages/transformers/data/datasets/language_modeling.py:58: FutureWarning: This dataset will be removed from the library soon, preprocessing should be handled with the 🤗 Datasets library. You can have a look at this example script for pointers: https://github.com/huggingface/transformers/blob/main/examples/pytorch/language-modeling/run_mlm.py\n",
      "  FutureWarning,\n"
     ]
    },
    {
     "name": "stdout",
     "output_type": "stream",
     "text": [
      "232564 487 557\n"
     ]
    }
   ],
   "source": [
    "tokenizer = GPT2Tokenizer.from_pretrained(\"gpt2\")\n",
    "\n",
    "    #dataset_train = load_dataset('wikitext', 'wikitext-103-v1', split='train')\n",
    "    #dataset_valid = load_dataset('wikitext', 'wikitext-103-v1', split='validation')\n",
    "    \n",
    "dataset_train = TextDataset(tokenizer=tokenizer, \n",
    "                                file_path=str(BASE_DIR) + \"/wikitext-103/wiki.train.tokens\", \n",
    "                                block_size=512)\n",
    "\n",
    "\n",
    "dataset_valid = TextDataset(tokenizer=tokenizer, \n",
    "                                file_path=str(BASE_DIR) + \"/wikitext-103/wiki.valid.tokens\", \n",
    "                                block_size=512)\n",
    "    \n",
    "dataset_test = TextDataset(tokenizer=tokenizer, \n",
    "                                file_path=str(BASE_DIR) + \"/wikitext-103/wiki.test.tokens\", block_size=512)\n",
    "print (len(dataset_train), len(dataset_valid), len(dataset_test))"
   ]
  },
  {
   "cell_type": "code",
   "execution_count": 17,
   "metadata": {},
   "outputs": [],
   "source": [
    "from transformers import Trainer, TrainingArguments\n",
    "from transformers import default_data_collator\n",
    "import torch\n",
    "\n",
    "class Object(object):\n",
    "    pass\n",
    "\n",
    "args = Object()\n",
    "args.local_rank = -1\n",
    "args.max_steps = 2\n",
    "args.per_gpu_train_batch_size = 1\n",
    "args.per_gpu_eval_batch_size = 1\n",
    "args.n_gpu = 1\n",
    "args.gradient_accumulation_steps = 1\n",
    "args.num_train_epochs = 100\n",
    "args.weight_decay = 0.0\n",
    "args.learning_rate = 6.25e-3\n",
    "args.adam_epsilon = 1e-8\n",
    "args.warmup_steps = 0\n",
    "args.seed = 42\n",
    "args.mlm = False\n",
    "args.device = torch.device('cuda:1')\n",
    "args.fp16 = False\n",
    "args.max_grad_norm = 1.0\n",
    "args.logging_steps = 500.0\n",
    "args.save_steps = 50\n",
    "args.evaluate_during_training = True\n",
    "args.output_dir = '/notebook/greenAI/out_simple_transformer'\n",
    "args.eval_batch_size = 32\n",
    "args.save_total_limit = 2"
   ]
  },
  {
   "cell_type": "code",
   "execution_count": 18,
   "metadata": {},
   "outputs": [],
   "source": [
    "from transformers import (WEIGHTS_NAME, AdamW, get_linear_schedule_with_warmup,\n",
    "                                  GPT2Config, GPT2LMHeadModel, GPT2Tokenizer)"
   ]
  },
  {
   "cell_type": "code",
   "execution_count": 19,
   "metadata": {},
   "outputs": [],
   "source": [
    "from tqdm import tqdm, trange\n",
    "\n",
    "def train1(args, train_dataset, model, tokenizer, parameters, parameters_peak):\n",
    "    \"\"\" Train the model \"\"\"\n",
    "    args.train_batch_size = args.per_gpu_train_batch_size * max(1, args.n_gpu)\n",
    "    train_sampler = RandomSampler(train_dataset) if args.local_rank == -1 else DistributedSampler(train_dataset)\n",
    "    train_dataloader = DataLoader(train_dataset, sampler=train_sampler, batch_size=args.train_batch_size)\n",
    "\n",
    "    if args.max_steps > 0:\n",
    "        t_total = args.max_steps\n",
    "        args.num_train_epochs = args.max_steps // (len(train_dataloader) // args.gradient_accumulation_steps) + 1\n",
    "    else:\n",
    "        t_total = len(train_dataloader) // args.gradient_accumulation_steps * args.num_train_epochs\n",
    "\n",
    "    # Prepare optimizer and schedule (linear warmup and decay)\n",
    "    no_decay = ['bias', 'LayerNorm.weight']\n",
    "    optimizer_grouped_parameters = [\n",
    "        {'params': [p for n, p in model.named_parameters() if not any(nd in n for nd in no_decay)], 'weight_decay': args.weight_decay},\n",
    "        {'params': [p for n, p in model.named_parameters() if any(nd in n for nd in no_decay)], 'weight_decay': 0.0}\n",
    "        ]\n",
    "    optimizer = AdamW(optimizer_grouped_parameters, lr=args.learning_rate, eps=args.adam_epsilon)\n",
    "    scheduler = get_linear_schedule_with_warmup(optimizer, num_warmup_steps=args.warmup_steps, num_training_steps = t_total)\n",
    "    if args.fp16:\n",
    "        try:\n",
    "            from apex import amp\n",
    "        except ImportError:\n",
    "            raise ImportError(\"Please install apex from https://www.github.com/nvidia/apex to use fp16 training.\")\n",
    "        model, optimizer = amp.initialize(model, optimizer, opt_level=args.fp16_opt_level)\n",
    "    \n",
    "\n",
    "    # multi-gpu training (should be after apex fp16 initialization)\n",
    "    if args.n_gpu > 1:\n",
    "        model = torch.nn.DataParallel(model)\n",
    "\n",
    "    # Distributed training (should be after apex fp16 initialization)\n",
    "    if args.local_rank != -1:\n",
    "        model = torch.nn.parallel.DistributedDataParallel(model, device_ids=[args.local_rank],\n",
    "                                                          output_device=args.local_rank,\n",
    "                                                          find_unused_parameters=True)\n",
    "    global_step = 0\n",
    "    tr_loss, logging_loss = 0.0, 0.0\n",
    "    model.zero_grad()\n",
    "    train_iterator = trange(int(args.num_train_epochs), desc=\"Epoch\", disable=args.local_rank not in [-1, 0])\n",
    "    \n",
    "    for _ in train_iterator:\n",
    "        epoch_iterator = tqdm(train_dataloader, desc=\"Iteration\", disable=args.local_rank not in [-1, 0])\n",
    "        for step, batch in enumerate(epoch_iterator):\n",
    "            inputs, labels = (batch, batch)\n",
    "            inputs = inputs.to(args.device)\n",
    "            labels = labels.to(args.device)\n",
    "            model.train()\n",
    "            \n",
    "            print (\"memory before training\", parameters, parameters_peak)\n",
    "            outputs = model(inputs)\n",
    "            \n",
    "            print(f'total memory after forward: {cuda_memory(args.device) - parameters}')\n",
    "            print(f'peak memory after forward: {cuda_peak_memory(args.device)}')\n",
    "            print (\"\\n\")\n",
    "            \n",
    "            loss = outputs[0]  # model outputs are always tuple in transformers (see doc)\n",
    "            print (loss.mean())\n",
    "            loss.mean().backward()\n",
    "            print(f'total memory after backward: {cuda_memory(args.device) - parameters}')\n",
    "            print(f'preak memory after backward: {cuda_peak_memory(args.device)}')\n",
    "            print (\"\\n\\n\\n\")\n",
    "            if (step + 1) % args.gradient_accumulation_steps == 0:\n",
    "                if args.fp16:\n",
    "                    torch.nn.utils.clip_grad_norm_(amp.master_params(optimizer), args.max_grad_norm)\n",
    "                else:\n",
    "                    torch.nn.utils.clip_grad_norm_(model.parameters(), args.max_grad_norm)\n",
    "                optimizer.step()\n",
    "                scheduler.step()  # Update learning rate schedule\n",
    "                model.zero_grad()\n",
    "                global_step += 1\n",
    "                if args.max_steps > 0 and global_step > args.max_steps:\n",
    "                    break\n",
    "\n",
    "        if args.max_steps > 0 and global_step > args.max_steps:\n",
    "            train_iterator.close()\n",
    "            break\n",
    "\n",
    "    return global_step, tr_loss / global_step\n",
    "\n"
   ]
  },
  {
   "cell_type": "markdown",
   "metadata": {},
   "source": [
    "## Regular GPT med"
   ]
  },
  {
   "cell_type": "code",
   "execution_count": 42,
   "metadata": {},
   "outputs": [],
   "source": [
    "\n",
    "parameters = cuda_memory(args.device)\n",
    "parameters_peak = cuda_peak_memory(args.device)\n",
    "model1 = GPT2LMHeadModel.from_pretrained(\"gpt2\")"
   ]
  },
  {
   "cell_type": "code",
   "execution_count": 43,
   "metadata": {},
   "outputs": [
    {
     "name": "stderr",
     "output_type": "stream",
     "text": [
      "Epoch:   0% 0/1 [00:00<?, ?it/s]\n",
      "Iteration:   0% 0/232564 [00:00<?, ?it/s]\u001b[A\n",
      "Iteration:   0% 2/232564 [00:00<6:09:48, 10.48it/s]\u001b[A\n",
      "Epoch:   0% 0/1 [00:00<?, ?it/s]"
     ]
    },
    {
     "name": "stdout",
     "output_type": "stream",
     "text": [
      "memory before training 536.345703125 3528.0\n",
      "total memory after forward: 900.1279296875\n",
      "peak memory after forward: 3528.0\n",
      "\n",
      "\n",
      "tensor(-106.5253, device='cuda:1', grad_fn=<MeanBackward0>)\n",
      "total memory after backward: 586.3583984375\n",
      "preak memory after backward: 3528.0\n",
      "\n",
      "\n",
      "\n",
      "\n",
      "memory before training 536.345703125 3528.0\n",
      "total memory after forward: 2441.5166015625\n",
      "peak memory after forward: 3528.0\n",
      "\n",
      "\n",
      "tensor(-199.6567, device='cuda:1', grad_fn=<MeanBackward0>)\n",
      "total memory after backward: 1541.2841796875\n",
      "preak memory after backward: 3528.0\n",
      "\n",
      "\n",
      "\n",
      "\n",
      "memory before training 536.345703125 3528.0\n",
      "total memory after forward: 2440.0166015625\n",
      "peak memory after forward: 3528.0\n",
      "\n",
      "\n",
      "tensor(-242.5420, device='cuda:1', grad_fn=<MeanBackward0>)\n",
      "total memory after backward: 1539.7841796875\n",
      "preak memory after backward: 3528.0\n",
      "\n",
      "\n",
      "\n",
      "\n"
     ]
    },
    {
     "name": "stderr",
     "output_type": "stream",
     "text": [
      "\n"
     ]
    },
    {
     "data": {
      "text/plain": [
       "(3, 0.0)"
      ]
     },
     "execution_count": 43,
     "metadata": {},
     "output_type": "execute_result"
    }
   ],
   "source": [
    "train1(args, dataset_train, model1.to(args.device), tokenizer, parameters, parameters_peak)"
   ]
  },
  {
   "cell_type": "code",
   "execution_count": 28,
   "metadata": {},
   "outputs": [],
   "source": [
    "del model1\n",
    "torch.cuda.empty_cache()"
   ]
  },
  {
   "cell_type": "markdown",
   "metadata": {},
   "source": [
    "## GPT-TTM 16 old version "
   ]
  },
  {
   "cell_type": "code",
   "execution_count": 29,
   "metadata": {},
   "outputs": [],
   "source": [
    "parameters = cuda_memory(args.device)\n",
    "parameters_peak = cuda_peak_memory(args.device)\n",
    "model1 = GPT2LMHeadModel.from_pretrained(\"gpt2\")"
   ]
  },
  {
   "cell_type": "code",
   "execution_count": 23,
   "metadata": {},
   "outputs": [
    {
     "name": "stdout",
     "output_type": "stream",
     "text": [
      "/notebook/GreenAl/notebooks\n"
     ]
    }
   ],
   "source": [
    "!pwd"
   ]
  },
  {
   "cell_type": "code",
   "execution_count": 30,
   "metadata": {},
   "outputs": [
    {
     "name": "stdout",
     "output_type": "stream",
     "text": [
      "[(4, 4), (4, 4), (4, 4), (4, 4), (3, 12)]\n",
      "[(4, 4), (4, 4), (4, 4), (4, 4), (12, 3)]\n",
      "[(4, 4), (4, 4), (4, 4), (4, 4), (3, 12)]\n",
      "[(4, 4), (4, 4), (4, 4), (4, 4), (12, 3)]\n",
      "[(4, 4), (4, 4), (4, 4), (4, 4), (3, 12)]\n",
      "[(4, 4), (4, 4), (4, 4), (4, 4), (12, 3)]\n",
      "[(4, 4), (4, 4), (4, 4), (4, 4), (3, 12)]\n",
      "[(4, 4), (4, 4), (4, 4), (4, 4), (12, 3)]\n",
      "[(4, 4), (4, 4), (4, 4), (4, 4), (3, 12)]\n",
      "[(4, 4), (4, 4), (4, 4), (4, 4), (12, 3)]\n",
      "[(4, 4), (4, 4), (4, 4), (4, 4), (3, 12)]\n",
      "[(4, 4), (4, 4), (4, 4), (4, 4), (12, 3)]\n",
      "[(4, 4), (4, 4), (4, 4), (4, 4), (3, 12)]\n",
      "[(4, 4), (4, 4), (4, 4), (4, 4), (12, 3)]\n",
      "[(4, 4), (4, 4), (4, 4), (4, 4), (3, 12)]\n",
      "[(4, 4), (4, 4), (4, 4), (4, 4), (12, 3)]\n",
      "[(4, 4), (4, 4), (4, 4), (4, 4), (3, 12)]\n",
      "[(4, 4), (4, 4), (4, 4), (4, 4), (12, 3)]\n",
      "[(4, 4), (4, 4), (4, 4), (4, 4), (3, 12)]\n",
      "[(4, 4), (4, 4), (4, 4), (4, 4), (12, 3)]\n",
      "[(4, 4), (4, 4), (4, 4), (4, 4), (3, 12)]\n",
      "[(4, 4), (4, 4), (4, 4), (4, 4), (12, 3)]\n",
      "[(4, 4), (4, 4), (4, 4), (4, 4), (3, 12)]\n",
      "[(4, 4), (4, 4), (4, 4), (4, 4), (12, 3)]\n"
     ]
    }
   ],
   "source": [
    "import sys\n",
    "sys.path.append(\"/notebook/GreenAl/\") \n",
    "from old.linear import TTMLinear\n",
    "\n",
    "for i in range(len(model1.transformer.h)):\n",
    "    # fc part\n",
    "    old_layer = model1.transformer.h[i].mlp.c_fc\n",
    "    (in_, out_) = old_layer.weight.shape\n",
    "    layer = TTMLinear(d_in = old_layer.weight.shape[0], d_out = old_layer.weight.shape[1], rank = 16).to(args.device)\n",
    "    model1.transformer.h[i].mlp.c_fc = layer\n",
    "\n",
    "    # projection\n",
    "    old_layer = model1.transformer.h[i].mlp.c_proj\n",
    "    (in_, out_) = old_layer.weight.shape\n",
    "    layer = TTMLinear(d_in = old_layer.weight.shape[0], d_out = old_layer.weight.shape[1], rank = 16).to(args.device)\n",
    "    #layer = drop_layer\n",
    "    model1.transformer.h[i].mlp.c_proj = layer"
   ]
  },
  {
   "cell_type": "code",
   "execution_count": 31,
   "metadata": {},
   "outputs": [
    {
     "name": "stderr",
     "output_type": "stream",
     "text": [
      "Epoch:   0% 0/1 [00:00<?, ?it/s]\n",
      "Iteration:   0% 0/232564 [00:00<?, ?it/s]\u001b[A\n",
      "Iteration:   0% 1/232564 [00:00<9:41:02,  6.67it/s]\u001b[A"
     ]
    },
    {
     "name": "stdout",
     "output_type": "stream",
     "text": [
      "memory before training 0.05029296875 3528.0\n",
      "total memory after forward: 1632.81689453125\n",
      "peak memory after forward: 3528.0\n",
      "\n",
      "\n",
      "tensor(4.5948, device='cuda:1', grad_fn=<MeanBackward0>)\n",
      "total memory after backward: 688.85986328125\n",
      "preak memory after backward: 3528.0\n",
      "\n",
      "\n",
      "\n",
      "\n",
      "memory before training 0.05029296875 3528.0\n",
      "total memory after forward: 2523.79931640625\n",
      "peak memory after forward: 3528.0\n",
      "\n",
      "\n",
      "tensor(92.6889, device='cuda:1', grad_fn=<MeanBackward0>)\n"
     ]
    },
    {
     "name": "stderr",
     "output_type": "stream",
     "text": [
      "\n",
      "Iteration:   0% 2/232564 [00:00<12:14:51,  5.27it/s][A\n",
      "Epoch:   0% 0/1 [00:00<?, ?it/s]"
     ]
    },
    {
     "name": "stdout",
     "output_type": "stream",
     "text": [
      "total memory after backward: 1215.09814453125\n",
      "preak memory after backward: 3528.0\n",
      "\n",
      "\n",
      "\n",
      "\n",
      "memory before training 0.05029296875 3528.0\n",
      "total memory after forward: 2525.29931640625\n",
      "peak memory after forward: 3528.0\n",
      "\n",
      "\n",
      "tensor(-81.6188, device='cuda:1', grad_fn=<MeanBackward0>)\n",
      "total memory after backward: 1214.59814453125\n",
      "preak memory after backward: 3528.0\n",
      "\n",
      "\n",
      "\n",
      "\n"
     ]
    },
    {
     "name": "stderr",
     "output_type": "stream",
     "text": [
      "\n"
     ]
    },
    {
     "data": {
      "text/plain": [
       "(3, 0.0)"
      ]
     },
     "execution_count": 31,
     "metadata": {},
     "output_type": "execute_result"
    }
   ],
   "source": [
    "train1(args, dataset_train, model1.to(args.device), tokenizer, parameters, parameters_peak)"
   ]
  },
  {
   "cell_type": "code",
   "execution_count": 32,
   "metadata": {},
   "outputs": [],
   "source": [
    "del model1\n",
    "torch.cuda.empty_cache()"
   ]
  },
  {
   "cell_type": "code",
   "execution_count": 33,
   "metadata": {},
   "outputs": [],
   "source": [
    "model1 = GPT2LMHeadModel.from_pretrained(\"gpt2\")"
   ]
  },
  {
   "cell_type": "code",
   "execution_count": 34,
   "metadata": {},
   "outputs": [],
   "source": [
    "parameters = cuda_memory(args.device)\n",
    "parameters_peak = cuda_peak_memory(args.device)"
   ]
  },
  {
   "cell_type": "code",
   "execution_count": 35,
   "metadata": {},
   "outputs": [
    {
     "name": "stdout",
     "output_type": "stream",
     "text": [
      "[(8, 8), (8, 8), (12, 8), (1, 6)]\n",
      "[(8, 8), (8, 8), (8, 12), (6, 1)]\n",
      "[(8, 8), (8, 8), (12, 8), (1, 6)]\n",
      "[(8, 8), (8, 8), (8, 12), (6, 1)]\n",
      "[(8, 8), (8, 8), (12, 8), (1, 6)]\n",
      "[(8, 8), (8, 8), (8, 12), (6, 1)]\n",
      "[(8, 8), (8, 8), (12, 8), (1, 6)]\n",
      "[(8, 8), (8, 8), (8, 12), (6, 1)]\n",
      "[(8, 8), (8, 8), (12, 8), (1, 6)]\n",
      "[(8, 8), (8, 8), (8, 12), (6, 1)]\n",
      "[(8, 8), (8, 8), (12, 8), (1, 6)]\n",
      "[(8, 8), (8, 8), (8, 12), (6, 1)]\n",
      "[(8, 8), (8, 8), (12, 8), (1, 6)]\n",
      "[(8, 8), (8, 8), (8, 12), (6, 1)]\n",
      "[(8, 8), (8, 8), (12, 8), (1, 6)]\n",
      "[(8, 8), (8, 8), (8, 12), (6, 1)]\n",
      "[(8, 8), (8, 8), (12, 8), (1, 6)]\n",
      "[(8, 8), (8, 8), (8, 12), (6, 1)]\n",
      "[(8, 8), (8, 8), (12, 8), (1, 6)]\n",
      "[(8, 8), (8, 8), (8, 12), (6, 1)]\n",
      "[(8, 8), (8, 8), (12, 8), (1, 6)]\n",
      "[(8, 8), (8, 8), (8, 12), (6, 1)]\n",
      "[(8, 8), (8, 8), (12, 8), (1, 6)]\n",
      "[(8, 8), (8, 8), (8, 12), (6, 1)]\n"
     ]
    }
   ],
   "source": [
    "import sys\n",
    "sys.path.append(str(BASE_DIR)) \n",
    "from old.linear import TTMLinear\n",
    "\n",
    "for i in range(len(model1.transformer.h)):\n",
    "    # fc part\n",
    "    old_layer = model1.transformer.h[i].mlp.c_fc\n",
    "    (in_, out_) = old_layer.weight.shape\n",
    "    layer = TTMLinear(d_in = old_layer.weight.shape[0], d_out = old_layer.weight.shape[1], rank = 32).to(args.device)\n",
    "    model1.transformer.h[i].mlp.c_fc = layer\n",
    "\n",
    "    # projection\n",
    "    old_layer = model1.transformer.h[i].mlp.c_proj\n",
    "    (in_, out_) = old_layer.weight.shape\n",
    "    layer = TTMLinear(d_in = old_layer.weight.shape[0], d_out = old_layer.weight.shape[1], rank = 32).to(args.device)\n",
    "    #layer = drop_layer\n",
    "    model1.transformer.h[i].mlp.c_proj = layer"
   ]
  },
  {
   "cell_type": "code",
   "execution_count": 41,
   "metadata": {},
   "outputs": [
    {
     "name": "stderr",
     "output_type": "stream",
     "text": [
      "Epoch:   0% 0/1 [00:00<?, ?it/s]\n",
      "Iteration:   0% 0/232564 [00:00<?, ?it/s]\u001b[A"
     ]
    },
    {
     "name": "stdout",
     "output_type": "stream",
     "text": [
      "memory before training 0.6337890625 3528.0\n",
      "total memory after forward: 1219.6904296875\n",
      "peak memory after forward: 3528.0\n",
      "\n",
      "\n",
      "tensor(-36.5176, device='cuda:1', grad_fn=<MeanBackward0>)\n",
      "total memory after backward: 687.8779296875\n",
      "preak memory after backward: 3528.0\n",
      "\n",
      "\n",
      "\n",
      "\n"
     ]
    },
    {
     "name": "stderr",
     "output_type": "stream",
     "text": [
      "\n",
      "Iteration:   0% 1/232564 [00:00<14:13:52,  4.54it/s]\u001b[A\n",
      "Iteration:   0% 2/232564 [00:00<11:22:15,  5.68it/s]\u001b[A"
     ]
    },
    {
     "name": "stdout",
     "output_type": "stream",
     "text": [
      "memory before training 0.6337890625 3528.0\n",
      "total memory after forward: 2107.7001953125\n",
      "peak memory after forward: 3528.0\n",
      "\n",
      "\n",
      "tensor(-73.2697, device='cuda:1', grad_fn=<MeanBackward0>)\n",
      "total memory after backward: 1210.7177734375\n",
      "preak memory after backward: 3528.0\n",
      "\n",
      "\n",
      "\n",
      "\n",
      "memory before training 0.6337890625 3528.0\n",
      "total memory after forward: 2106.7001953125\n",
      "peak memory after forward: 3528.0\n",
      "\n",
      "\n",
      "tensor(-165.5367, device='cuda:1', grad_fn=<MeanBackward0>)\n"
     ]
    },
    {
     "name": "stderr",
     "output_type": "stream",
     "text": [
      "Iteration:   0% 2/232564 [00:00<16:50:22,  3.84it/s]\n",
      "Epoch:   0% 0/1 [00:00<?, ?it/s]"
     ]
    },
    {
     "name": "stdout",
     "output_type": "stream",
     "text": [
      "total memory after backward: 1210.7177734375\n",
      "preak memory after backward: 3528.0\n",
      "\n",
      "\n",
      "\n",
      "\n"
     ]
    },
    {
     "name": "stderr",
     "output_type": "stream",
     "text": [
      "\n"
     ]
    },
    {
     "data": {
      "text/plain": [
       "(3, 0.0)"
      ]
     },
     "execution_count": 41,
     "metadata": {},
     "output_type": "execute_result"
    }
   ],
   "source": [
    "train1(args, dataset_train, model1.to(args.device), tokenizer, parameters, parameters_peak)"
   ]
  },
  {
   "cell_type": "code",
   "execution_count": null,
   "metadata": {},
   "outputs": [],
   "source": [
    "## New version of layers"
   ]
  },
  {
   "cell_type": "code",
   "execution_count": 36,
   "metadata": {},
   "outputs": [],
   "source": [
    "del model1\n",
    "torch.cuda.empty_cache()"
   ]
  },
  {
   "cell_type": "code",
   "execution_count": 37,
   "metadata": {},
   "outputs": [],
   "source": [
    "model1 = GPT2LMHeadModel.from_pretrained(\"gpt2\")"
   ]
  },
  {
   "cell_type": "code",
   "execution_count": 38,
   "metadata": {},
   "outputs": [],
   "source": [
    "parameters = cuda_memory(args.device)\n",
    "parameters_peak = cuda_peak_memory(args.device)"
   ]
  },
  {
   "cell_type": "code",
   "execution_count": 39,
   "metadata": {},
   "outputs": [],
   "source": [
    "from src.ttm_linear.ttm_linear import FactorizationTTMLinear"
   ]
  },
  {
   "cell_type": "code",
   "execution_count": 40,
   "metadata": {},
   "outputs": [
    {
     "name": "stdout",
     "output_type": "stream",
     "text": [
      "-------------------------------------\n",
      "TTM-Linear required dimensions: dim_in=768, dim_out=3072, rank=16, max_dim=16\n",
      "    after best_approx: dim_in=768, dim_out=3072\n",
      "    dim_in factorization:  (2, 2, 2, 2, 2, 2, 2, 2, 3)\n",
      "    dim_out factorization: (2, 2, 2, 2, 2, 2, 2, 2, 3)\n",
      "    dims before shrink:  [(2, 2), (2, 2), (2, 2), (2, 2), (2, 2), (2, 2), (2, 2), (2, 2), (3, 2), (1, 2), (1, 3)]\n",
      "    final TTM dims:  [(4, 4), (4, 4), (4, 4), (4, 4), (3, 12)]\n",
      "    Original linear params: 2359296, ttm params: 13120 (x0.006)\n",
      "-------------------------------------\n",
      "-------------------------------------\n",
      "TTM-Linear required dimensions: dim_in=3072, dim_out=768, rank=16, max_dim=16\n",
      "    after best_approx: dim_in=3072, dim_out=768\n",
      "    dim_in factorization:  (2, 2, 2, 2, 2, 2, 2, 2, 2, 2, 3)\n",
      "    dim_out factorization: (2, 2, 2, 2, 2, 2, 2, 2, 2, 2, 3)\n",
      "    dims before shrink:  [(2, 2), (2, 2), (2, 2), (2, 2), (2, 2), (2, 2), (2, 2), (2, 2), (2, 3), (2, 1), (3, 1)]\n",
      "    final TTM dims:  [(4, 4), (4, 4), (4, 4), (4, 4), (12, 3)]\n",
      "    Original linear params: 2359296, ttm params: 13120 (x0.006)\n",
      "-------------------------------------\n"
     ]
    }
   ],
   "source": [
    "for i in range(len(model1.transformer.h)):\n",
    "    # fc part\n",
    "    old_layer = model1.transformer.h[i].mlp.c_fc\n",
    "    (in_, out_) = old_layer.weight.shape\n",
    "    layer = FactorizationTTMLinear(in_, out_, rank=16, max_core_dim_product = 16).to(args.device)\n",
    "    model1.transformer.h[i].mlp.c_fc = layer\n",
    "\n",
    "    # projection\n",
    "    old_layer = model1.transformer.h[i].mlp.c_proj\n",
    "    (in_, out_) = old_layer.weight.shape\n",
    "    layer = FactorizationTTMLinear(in_, out_, rank=16, max_core_dim_product = 16).to(args.device)\n",
    "    #layer = drop_layer\n",
    "    model1.transformer.h[i].mlp.c_proj = layer"
   ]
  },
  {
   "cell_type": "code",
   "execution_count": 64,
   "metadata": {},
   "outputs": [
    {
     "name": "stderr",
     "output_type": "stream",
     "text": [
      "Epoch:   0% 0/1 [00:00<?, ?it/s]\n",
      "Iteration:   0% 0/232564 [00:00<?, ?it/s]\u001b[A\n"
     ]
    },
    {
     "name": "stdout",
     "output_type": "stream",
     "text": [
      "memory before training 2357.9599609375 5818.0\n",
      "total memory after forward: 969.232421875\n",
      "peak memory after forward: 5818.0\n",
      "\n",
      "\n",
      "tensor(-64.4477, device='cuda:1', grad_fn=<MeanBackward0>)\n",
      "total memory after backward: 420.828125\n",
      "preak memory after backward: 5818.0\n",
      "\n",
      "\n",
      "\n",
      "\n"
     ]
    },
    {
     "name": "stderr",
     "output_type": "stream",
     "text": [
      "Iteration:   0% 1/232564 [00:00<14:00:30,  4.61it/s]\u001b[A\n",
      "Iteration:   0% 2/232564 [00:00<11:47:07,  5.48it/s]\u001b[A"
     ]
    },
    {
     "name": "stdout",
     "output_type": "stream",
     "text": [
      "memory before training 3303.1279296875 5818.0\n",
      "total memory after forward: 910.57421875\n",
      "peak memory after forward: 5818.0\n",
      "\n",
      "\n",
      "tensor(-122.9731, device='cuda:1', grad_fn=<MeanBackward0>)\n",
      "total memory after backward: -2.0\n",
      "preak memory after backward: 5818.0\n",
      "\n",
      "\n",
      "\n",
      "\n",
      "memory before training 3301.1279296875 5818.0\n",
      "total memory after forward: 915.82421875\n",
      "peak memory after forward: 5818.0\n",
      "\n",
      "\n",
      "tensor(-169.7060, device='cuda:1', grad_fn=<MeanBackward0>)\n"
     ]
    },
    {
     "name": "stderr",
     "output_type": "stream",
     "text": [
      "Iteration:   0% 2/232564 [00:00<17:22:04,  3.72it/s]\n",
      "Epoch:   0% 0/1 [00:00<?, ?it/s]"
     ]
    },
    {
     "name": "stdout",
     "output_type": "stream",
     "text": [
      "total memory after backward: 3.25\n",
      "preak memory after backward: 5818.0\n",
      "\n",
      "\n",
      "\n",
      "\n"
     ]
    },
    {
     "name": "stderr",
     "output_type": "stream",
     "text": [
      "\n"
     ]
    },
    {
     "data": {
      "text/plain": [
       "(3, 0.0)"
      ]
     },
     "execution_count": 64,
     "metadata": {},
     "output_type": "execute_result"
    }
   ],
   "source": [
    "train1(args, dataset_train, model1.to(args.device), tokenizer)"
   ]
  },
  {
   "cell_type": "code",
   "execution_count": null,
   "metadata": {},
   "outputs": [],
   "source": []
  }
 ],
 "metadata": {
  "kernelspec": {
   "display_name": "Python 3 (ipykernel)",
   "language": "python",
   "name": "python3"
  },
  "language_info": {
   "codemirror_mode": {
    "name": "ipython",
    "version": 3
   },
   "file_extension": ".py",
   "mimetype": "text/x-python",
   "name": "python",
   "nbconvert_exporter": "python",
   "pygments_lexer": "ipython3",
   "version": "3.7.7"
  }
 },
 "nbformat": 4,
 "nbformat_minor": 4
}
