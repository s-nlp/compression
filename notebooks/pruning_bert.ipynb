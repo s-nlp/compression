{
  "nbformat": 4,
  "nbformat_minor": 0,
  "metadata": {
    "colab": {
      "provenance": [],
      "collapsed_sections": []
    },
    "kernelspec": {
      "name": "python3",
      "display_name": "Python 3"
    },
    "language_info": {
      "name": "python"
    },
    "accelerator": "GPU",
    "gpuClass": "standard",
    "widgets": {
      "application/vnd.jupyter.widget-state+json": {
        "22204c525a21432aa2642651f10a1b50": {
          "model_module": "@jupyter-widgets/controls",
          "model_name": "HBoxModel",
          "model_module_version": "1.5.0",
          "state": {
            "_dom_classes": [],
            "_model_module": "@jupyter-widgets/controls",
            "_model_module_version": "1.5.0",
            "_model_name": "HBoxModel",
            "_view_count": null,
            "_view_module": "@jupyter-widgets/controls",
            "_view_module_version": "1.5.0",
            "_view_name": "HBoxView",
            "box_style": "",
            "children": [
              "IPY_MODEL_2d2c5b3a35ba47529fb7ade100af11ff",
              "IPY_MODEL_a4479415258f4205b9b7142bdaf9ca59",
              "IPY_MODEL_3dabb7057ffd411090089e1564381cdc"
            ],
            "layout": "IPY_MODEL_f2e5eaf0ae5e416ab50ef800854760ca"
          }
        },
        "2d2c5b3a35ba47529fb7ade100af11ff": {
          "model_module": "@jupyter-widgets/controls",
          "model_name": "HTMLModel",
          "model_module_version": "1.5.0",
          "state": {
            "_dom_classes": [],
            "_model_module": "@jupyter-widgets/controls",
            "_model_module_version": "1.5.0",
            "_model_name": "HTMLModel",
            "_view_count": null,
            "_view_module": "@jupyter-widgets/controls",
            "_view_module_version": "1.5.0",
            "_view_name": "HTMLView",
            "description": "",
            "description_tooltip": null,
            "layout": "IPY_MODEL_a424312a9f2b4d20947fd2a6f07958d4",
            "placeholder": "​",
            "style": "IPY_MODEL_864f503d4ad84921932564010b4204d6",
            "value": "Downloading: 100%"
          }
        },
        "a4479415258f4205b9b7142bdaf9ca59": {
          "model_module": "@jupyter-widgets/controls",
          "model_name": "FloatProgressModel",
          "model_module_version": "1.5.0",
          "state": {
            "_dom_classes": [],
            "_model_module": "@jupyter-widgets/controls",
            "_model_module_version": "1.5.0",
            "_model_name": "FloatProgressModel",
            "_view_count": null,
            "_view_module": "@jupyter-widgets/controls",
            "_view_module_version": "1.5.0",
            "_view_name": "ProgressView",
            "bar_style": "success",
            "description": "",
            "description_tooltip": null,
            "layout": "IPY_MODEL_17eeb8735dd340b887152620a895819a",
            "max": 231508,
            "min": 0,
            "orientation": "horizontal",
            "style": "IPY_MODEL_23b93d2082a24ad3ab9495d001924117",
            "value": 231508
          }
        },
        "3dabb7057ffd411090089e1564381cdc": {
          "model_module": "@jupyter-widgets/controls",
          "model_name": "HTMLModel",
          "model_module_version": "1.5.0",
          "state": {
            "_dom_classes": [],
            "_model_module": "@jupyter-widgets/controls",
            "_model_module_version": "1.5.0",
            "_model_name": "HTMLModel",
            "_view_count": null,
            "_view_module": "@jupyter-widgets/controls",
            "_view_module_version": "1.5.0",
            "_view_name": "HTMLView",
            "description": "",
            "description_tooltip": null,
            "layout": "IPY_MODEL_90757f2f66c543a781f29254090c408e",
            "placeholder": "​",
            "style": "IPY_MODEL_92f122d876e34baebc91b41b1dd8ba9e",
            "value": " 232k/232k [00:00&lt;00:00, 9.76kB/s]"
          }
        },
        "f2e5eaf0ae5e416ab50ef800854760ca": {
          "model_module": "@jupyter-widgets/base",
          "model_name": "LayoutModel",
          "model_module_version": "1.2.0",
          "state": {
            "_model_module": "@jupyter-widgets/base",
            "_model_module_version": "1.2.0",
            "_model_name": "LayoutModel",
            "_view_count": null,
            "_view_module": "@jupyter-widgets/base",
            "_view_module_version": "1.2.0",
            "_view_name": "LayoutView",
            "align_content": null,
            "align_items": null,
            "align_self": null,
            "border": null,
            "bottom": null,
            "display": null,
            "flex": null,
            "flex_flow": null,
            "grid_area": null,
            "grid_auto_columns": null,
            "grid_auto_flow": null,
            "grid_auto_rows": null,
            "grid_column": null,
            "grid_gap": null,
            "grid_row": null,
            "grid_template_areas": null,
            "grid_template_columns": null,
            "grid_template_rows": null,
            "height": null,
            "justify_content": null,
            "justify_items": null,
            "left": null,
            "margin": null,
            "max_height": null,
            "max_width": null,
            "min_height": null,
            "min_width": null,
            "object_fit": null,
            "object_position": null,
            "order": null,
            "overflow": null,
            "overflow_x": null,
            "overflow_y": null,
            "padding": null,
            "right": null,
            "top": null,
            "visibility": null,
            "width": null
          }
        },
        "a424312a9f2b4d20947fd2a6f07958d4": {
          "model_module": "@jupyter-widgets/base",
          "model_name": "LayoutModel",
          "model_module_version": "1.2.0",
          "state": {
            "_model_module": "@jupyter-widgets/base",
            "_model_module_version": "1.2.0",
            "_model_name": "LayoutModel",
            "_view_count": null,
            "_view_module": "@jupyter-widgets/base",
            "_view_module_version": "1.2.0",
            "_view_name": "LayoutView",
            "align_content": null,
            "align_items": null,
            "align_self": null,
            "border": null,
            "bottom": null,
            "display": null,
            "flex": null,
            "flex_flow": null,
            "grid_area": null,
            "grid_auto_columns": null,
            "grid_auto_flow": null,
            "grid_auto_rows": null,
            "grid_column": null,
            "grid_gap": null,
            "grid_row": null,
            "grid_template_areas": null,
            "grid_template_columns": null,
            "grid_template_rows": null,
            "height": null,
            "justify_content": null,
            "justify_items": null,
            "left": null,
            "margin": null,
            "max_height": null,
            "max_width": null,
            "min_height": null,
            "min_width": null,
            "object_fit": null,
            "object_position": null,
            "order": null,
            "overflow": null,
            "overflow_x": null,
            "overflow_y": null,
            "padding": null,
            "right": null,
            "top": null,
            "visibility": null,
            "width": null
          }
        },
        "864f503d4ad84921932564010b4204d6": {
          "model_module": "@jupyter-widgets/controls",
          "model_name": "DescriptionStyleModel",
          "model_module_version": "1.5.0",
          "state": {
            "_model_module": "@jupyter-widgets/controls",
            "_model_module_version": "1.5.0",
            "_model_name": "DescriptionStyleModel",
            "_view_count": null,
            "_view_module": "@jupyter-widgets/base",
            "_view_module_version": "1.2.0",
            "_view_name": "StyleView",
            "description_width": ""
          }
        },
        "17eeb8735dd340b887152620a895819a": {
          "model_module": "@jupyter-widgets/base",
          "model_name": "LayoutModel",
          "model_module_version": "1.2.0",
          "state": {
            "_model_module": "@jupyter-widgets/base",
            "_model_module_version": "1.2.0",
            "_model_name": "LayoutModel",
            "_view_count": null,
            "_view_module": "@jupyter-widgets/base",
            "_view_module_version": "1.2.0",
            "_view_name": "LayoutView",
            "align_content": null,
            "align_items": null,
            "align_self": null,
            "border": null,
            "bottom": null,
            "display": null,
            "flex": null,
            "flex_flow": null,
            "grid_area": null,
            "grid_auto_columns": null,
            "grid_auto_flow": null,
            "grid_auto_rows": null,
            "grid_column": null,
            "grid_gap": null,
            "grid_row": null,
            "grid_template_areas": null,
            "grid_template_columns": null,
            "grid_template_rows": null,
            "height": null,
            "justify_content": null,
            "justify_items": null,
            "left": null,
            "margin": null,
            "max_height": null,
            "max_width": null,
            "min_height": null,
            "min_width": null,
            "object_fit": null,
            "object_position": null,
            "order": null,
            "overflow": null,
            "overflow_x": null,
            "overflow_y": null,
            "padding": null,
            "right": null,
            "top": null,
            "visibility": null,
            "width": null
          }
        },
        "23b93d2082a24ad3ab9495d001924117": {
          "model_module": "@jupyter-widgets/controls",
          "model_name": "ProgressStyleModel",
          "model_module_version": "1.5.0",
          "state": {
            "_model_module": "@jupyter-widgets/controls",
            "_model_module_version": "1.5.0",
            "_model_name": "ProgressStyleModel",
            "_view_count": null,
            "_view_module": "@jupyter-widgets/base",
            "_view_module_version": "1.2.0",
            "_view_name": "StyleView",
            "bar_color": null,
            "description_width": ""
          }
        },
        "90757f2f66c543a781f29254090c408e": {
          "model_module": "@jupyter-widgets/base",
          "model_name": "LayoutModel",
          "model_module_version": "1.2.0",
          "state": {
            "_model_module": "@jupyter-widgets/base",
            "_model_module_version": "1.2.0",
            "_model_name": "LayoutModel",
            "_view_count": null,
            "_view_module": "@jupyter-widgets/base",
            "_view_module_version": "1.2.0",
            "_view_name": "LayoutView",
            "align_content": null,
            "align_items": null,
            "align_self": null,
            "border": null,
            "bottom": null,
            "display": null,
            "flex": null,
            "flex_flow": null,
            "grid_area": null,
            "grid_auto_columns": null,
            "grid_auto_flow": null,
            "grid_auto_rows": null,
            "grid_column": null,
            "grid_gap": null,
            "grid_row": null,
            "grid_template_areas": null,
            "grid_template_columns": null,
            "grid_template_rows": null,
            "height": null,
            "justify_content": null,
            "justify_items": null,
            "left": null,
            "margin": null,
            "max_height": null,
            "max_width": null,
            "min_height": null,
            "min_width": null,
            "object_fit": null,
            "object_position": null,
            "order": null,
            "overflow": null,
            "overflow_x": null,
            "overflow_y": null,
            "padding": null,
            "right": null,
            "top": null,
            "visibility": null,
            "width": null
          }
        },
        "92f122d876e34baebc91b41b1dd8ba9e": {
          "model_module": "@jupyter-widgets/controls",
          "model_name": "DescriptionStyleModel",
          "model_module_version": "1.5.0",
          "state": {
            "_model_module": "@jupyter-widgets/controls",
            "_model_module_version": "1.5.0",
            "_model_name": "DescriptionStyleModel",
            "_view_count": null,
            "_view_module": "@jupyter-widgets/base",
            "_view_module_version": "1.2.0",
            "_view_name": "StyleView",
            "description_width": ""
          }
        },
        "89ab65563b9f4ad3a3fc247ecb9448a2": {
          "model_module": "@jupyter-widgets/controls",
          "model_name": "HBoxModel",
          "model_module_version": "1.5.0",
          "state": {
            "_dom_classes": [],
            "_model_module": "@jupyter-widgets/controls",
            "_model_module_version": "1.5.0",
            "_model_name": "HBoxModel",
            "_view_count": null,
            "_view_module": "@jupyter-widgets/controls",
            "_view_module_version": "1.5.0",
            "_view_name": "HBoxView",
            "box_style": "",
            "children": [
              "IPY_MODEL_96ce2e82a55a4bb590686654c161d53e",
              "IPY_MODEL_044abfa1b07b4fbbb221cda6181859bc",
              "IPY_MODEL_4ab60567ccb2473a85e24ad68696dcf0"
            ],
            "layout": "IPY_MODEL_f120117f6981418a8fc0266352cea7e4"
          }
        },
        "96ce2e82a55a4bb590686654c161d53e": {
          "model_module": "@jupyter-widgets/controls",
          "model_name": "HTMLModel",
          "model_module_version": "1.5.0",
          "state": {
            "_dom_classes": [],
            "_model_module": "@jupyter-widgets/controls",
            "_model_module_version": "1.5.0",
            "_model_name": "HTMLModel",
            "_view_count": null,
            "_view_module": "@jupyter-widgets/controls",
            "_view_module_version": "1.5.0",
            "_view_name": "HTMLView",
            "description": "",
            "description_tooltip": null,
            "layout": "IPY_MODEL_6300b549ee1949b5b0b45ca9d04f4365",
            "placeholder": "​",
            "style": "IPY_MODEL_50d585a460f44ea5bccf6834e2210951",
            "value": "Downloading: 100%"
          }
        },
        "044abfa1b07b4fbbb221cda6181859bc": {
          "model_module": "@jupyter-widgets/controls",
          "model_name": "FloatProgressModel",
          "model_module_version": "1.5.0",
          "state": {
            "_dom_classes": [],
            "_model_module": "@jupyter-widgets/controls",
            "_model_module_version": "1.5.0",
            "_model_name": "FloatProgressModel",
            "_view_count": null,
            "_view_module": "@jupyter-widgets/controls",
            "_view_module_version": "1.5.0",
            "_view_name": "ProgressView",
            "bar_style": "success",
            "description": "",
            "description_tooltip": null,
            "layout": "IPY_MODEL_4189775e96924bbf8f567a294586b451",
            "max": 28,
            "min": 0,
            "orientation": "horizontal",
            "style": "IPY_MODEL_a13913d488d748c5aa3d29fd94fa2521",
            "value": 28
          }
        },
        "4ab60567ccb2473a85e24ad68696dcf0": {
          "model_module": "@jupyter-widgets/controls",
          "model_name": "HTMLModel",
          "model_module_version": "1.5.0",
          "state": {
            "_dom_classes": [],
            "_model_module": "@jupyter-widgets/controls",
            "_model_module_version": "1.5.0",
            "_model_name": "HTMLModel",
            "_view_count": null,
            "_view_module": "@jupyter-widgets/controls",
            "_view_module_version": "1.5.0",
            "_view_name": "HTMLView",
            "description": "",
            "description_tooltip": null,
            "layout": "IPY_MODEL_87500d1bc5b44adcb229f778f0b8b804",
            "placeholder": "​",
            "style": "IPY_MODEL_01e37126e5d74549ba94407bc6e2d75b",
            "value": " 28.0/28.0 [00:00&lt;00:00, 254B/s]"
          }
        },
        "f120117f6981418a8fc0266352cea7e4": {
          "model_module": "@jupyter-widgets/base",
          "model_name": "LayoutModel",
          "model_module_version": "1.2.0",
          "state": {
            "_model_module": "@jupyter-widgets/base",
            "_model_module_version": "1.2.0",
            "_model_name": "LayoutModel",
            "_view_count": null,
            "_view_module": "@jupyter-widgets/base",
            "_view_module_version": "1.2.0",
            "_view_name": "LayoutView",
            "align_content": null,
            "align_items": null,
            "align_self": null,
            "border": null,
            "bottom": null,
            "display": null,
            "flex": null,
            "flex_flow": null,
            "grid_area": null,
            "grid_auto_columns": null,
            "grid_auto_flow": null,
            "grid_auto_rows": null,
            "grid_column": null,
            "grid_gap": null,
            "grid_row": null,
            "grid_template_areas": null,
            "grid_template_columns": null,
            "grid_template_rows": null,
            "height": null,
            "justify_content": null,
            "justify_items": null,
            "left": null,
            "margin": null,
            "max_height": null,
            "max_width": null,
            "min_height": null,
            "min_width": null,
            "object_fit": null,
            "object_position": null,
            "order": null,
            "overflow": null,
            "overflow_x": null,
            "overflow_y": null,
            "padding": null,
            "right": null,
            "top": null,
            "visibility": null,
            "width": null
          }
        },
        "6300b549ee1949b5b0b45ca9d04f4365": {
          "model_module": "@jupyter-widgets/base",
          "model_name": "LayoutModel",
          "model_module_version": "1.2.0",
          "state": {
            "_model_module": "@jupyter-widgets/base",
            "_model_module_version": "1.2.0",
            "_model_name": "LayoutModel",
            "_view_count": null,
            "_view_module": "@jupyter-widgets/base",
            "_view_module_version": "1.2.0",
            "_view_name": "LayoutView",
            "align_content": null,
            "align_items": null,
            "align_self": null,
            "border": null,
            "bottom": null,
            "display": null,
            "flex": null,
            "flex_flow": null,
            "grid_area": null,
            "grid_auto_columns": null,
            "grid_auto_flow": null,
            "grid_auto_rows": null,
            "grid_column": null,
            "grid_gap": null,
            "grid_row": null,
            "grid_template_areas": null,
            "grid_template_columns": null,
            "grid_template_rows": null,
            "height": null,
            "justify_content": null,
            "justify_items": null,
            "left": null,
            "margin": null,
            "max_height": null,
            "max_width": null,
            "min_height": null,
            "min_width": null,
            "object_fit": null,
            "object_position": null,
            "order": null,
            "overflow": null,
            "overflow_x": null,
            "overflow_y": null,
            "padding": null,
            "right": null,
            "top": null,
            "visibility": null,
            "width": null
          }
        },
        "50d585a460f44ea5bccf6834e2210951": {
          "model_module": "@jupyter-widgets/controls",
          "model_name": "DescriptionStyleModel",
          "model_module_version": "1.5.0",
          "state": {
            "_model_module": "@jupyter-widgets/controls",
            "_model_module_version": "1.5.0",
            "_model_name": "DescriptionStyleModel",
            "_view_count": null,
            "_view_module": "@jupyter-widgets/base",
            "_view_module_version": "1.2.0",
            "_view_name": "StyleView",
            "description_width": ""
          }
        },
        "4189775e96924bbf8f567a294586b451": {
          "model_module": "@jupyter-widgets/base",
          "model_name": "LayoutModel",
          "model_module_version": "1.2.0",
          "state": {
            "_model_module": "@jupyter-widgets/base",
            "_model_module_version": "1.2.0",
            "_model_name": "LayoutModel",
            "_view_count": null,
            "_view_module": "@jupyter-widgets/base",
            "_view_module_version": "1.2.0",
            "_view_name": "LayoutView",
            "align_content": null,
            "align_items": null,
            "align_self": null,
            "border": null,
            "bottom": null,
            "display": null,
            "flex": null,
            "flex_flow": null,
            "grid_area": null,
            "grid_auto_columns": null,
            "grid_auto_flow": null,
            "grid_auto_rows": null,
            "grid_column": null,
            "grid_gap": null,
            "grid_row": null,
            "grid_template_areas": null,
            "grid_template_columns": null,
            "grid_template_rows": null,
            "height": null,
            "justify_content": null,
            "justify_items": null,
            "left": null,
            "margin": null,
            "max_height": null,
            "max_width": null,
            "min_height": null,
            "min_width": null,
            "object_fit": null,
            "object_position": null,
            "order": null,
            "overflow": null,
            "overflow_x": null,
            "overflow_y": null,
            "padding": null,
            "right": null,
            "top": null,
            "visibility": null,
            "width": null
          }
        },
        "a13913d488d748c5aa3d29fd94fa2521": {
          "model_module": "@jupyter-widgets/controls",
          "model_name": "ProgressStyleModel",
          "model_module_version": "1.5.0",
          "state": {
            "_model_module": "@jupyter-widgets/controls",
            "_model_module_version": "1.5.0",
            "_model_name": "ProgressStyleModel",
            "_view_count": null,
            "_view_module": "@jupyter-widgets/base",
            "_view_module_version": "1.2.0",
            "_view_name": "StyleView",
            "bar_color": null,
            "description_width": ""
          }
        },
        "87500d1bc5b44adcb229f778f0b8b804": {
          "model_module": "@jupyter-widgets/base",
          "model_name": "LayoutModel",
          "model_module_version": "1.2.0",
          "state": {
            "_model_module": "@jupyter-widgets/base",
            "_model_module_version": "1.2.0",
            "_model_name": "LayoutModel",
            "_view_count": null,
            "_view_module": "@jupyter-widgets/base",
            "_view_module_version": "1.2.0",
            "_view_name": "LayoutView",
            "align_content": null,
            "align_items": null,
            "align_self": null,
            "border": null,
            "bottom": null,
            "display": null,
            "flex": null,
            "flex_flow": null,
            "grid_area": null,
            "grid_auto_columns": null,
            "grid_auto_flow": null,
            "grid_auto_rows": null,
            "grid_column": null,
            "grid_gap": null,
            "grid_row": null,
            "grid_template_areas": null,
            "grid_template_columns": null,
            "grid_template_rows": null,
            "height": null,
            "justify_content": null,
            "justify_items": null,
            "left": null,
            "margin": null,
            "max_height": null,
            "max_width": null,
            "min_height": null,
            "min_width": null,
            "object_fit": null,
            "object_position": null,
            "order": null,
            "overflow": null,
            "overflow_x": null,
            "overflow_y": null,
            "padding": null,
            "right": null,
            "top": null,
            "visibility": null,
            "width": null
          }
        },
        "01e37126e5d74549ba94407bc6e2d75b": {
          "model_module": "@jupyter-widgets/controls",
          "model_name": "DescriptionStyleModel",
          "model_module_version": "1.5.0",
          "state": {
            "_model_module": "@jupyter-widgets/controls",
            "_model_module_version": "1.5.0",
            "_model_name": "DescriptionStyleModel",
            "_view_count": null,
            "_view_module": "@jupyter-widgets/base",
            "_view_module_version": "1.2.0",
            "_view_name": "StyleView",
            "description_width": ""
          }
        },
        "f858a89d876242698b60cf4c11bf1967": {
          "model_module": "@jupyter-widgets/controls",
          "model_name": "HBoxModel",
          "model_module_version": "1.5.0",
          "state": {
            "_dom_classes": [],
            "_model_module": "@jupyter-widgets/controls",
            "_model_module_version": "1.5.0",
            "_model_name": "HBoxModel",
            "_view_count": null,
            "_view_module": "@jupyter-widgets/controls",
            "_view_module_version": "1.5.0",
            "_view_name": "HBoxView",
            "box_style": "",
            "children": [
              "IPY_MODEL_71ad827cc9e44d42b2a678265fd8cad4",
              "IPY_MODEL_4a771181acc34a638815a18e368fa63c",
              "IPY_MODEL_b045d199fb334ce3afe40fecb673db07"
            ],
            "layout": "IPY_MODEL_497e73877e53446ca03006f5f636a8a8"
          }
        },
        "71ad827cc9e44d42b2a678265fd8cad4": {
          "model_module": "@jupyter-widgets/controls",
          "model_name": "HTMLModel",
          "model_module_version": "1.5.0",
          "state": {
            "_dom_classes": [],
            "_model_module": "@jupyter-widgets/controls",
            "_model_module_version": "1.5.0",
            "_model_name": "HTMLModel",
            "_view_count": null,
            "_view_module": "@jupyter-widgets/controls",
            "_view_module_version": "1.5.0",
            "_view_name": "HTMLView",
            "description": "",
            "description_tooltip": null,
            "layout": "IPY_MODEL_a4da2ec667a04aa1bf582a4e91716853",
            "placeholder": "​",
            "style": "IPY_MODEL_fbf2ceac100b4cf38ea651a466eaded4",
            "value": "Downloading: 100%"
          }
        },
        "4a771181acc34a638815a18e368fa63c": {
          "model_module": "@jupyter-widgets/controls",
          "model_name": "FloatProgressModel",
          "model_module_version": "1.5.0",
          "state": {
            "_dom_classes": [],
            "_model_module": "@jupyter-widgets/controls",
            "_model_module_version": "1.5.0",
            "_model_name": "FloatProgressModel",
            "_view_count": null,
            "_view_module": "@jupyter-widgets/controls",
            "_view_module_version": "1.5.0",
            "_view_name": "ProgressView",
            "bar_style": "success",
            "description": "",
            "description_tooltip": null,
            "layout": "IPY_MODEL_c19c03e25b2a4b5d90f58ae4c30c6c04",
            "max": 570,
            "min": 0,
            "orientation": "horizontal",
            "style": "IPY_MODEL_f4707a931f8043f288bf3d55259e8dce",
            "value": 570
          }
        },
        "b045d199fb334ce3afe40fecb673db07": {
          "model_module": "@jupyter-widgets/controls",
          "model_name": "HTMLModel",
          "model_module_version": "1.5.0",
          "state": {
            "_dom_classes": [],
            "_model_module": "@jupyter-widgets/controls",
            "_model_module_version": "1.5.0",
            "_model_name": "HTMLModel",
            "_view_count": null,
            "_view_module": "@jupyter-widgets/controls",
            "_view_module_version": "1.5.0",
            "_view_name": "HTMLView",
            "description": "",
            "description_tooltip": null,
            "layout": "IPY_MODEL_c24d8529183d409684dc95c739803f6a",
            "placeholder": "​",
            "style": "IPY_MODEL_9037a8778f5f44e8b923fb7b23968c0d",
            "value": " 570/570 [00:00&lt;00:00, 4.21kB/s]"
          }
        },
        "497e73877e53446ca03006f5f636a8a8": {
          "model_module": "@jupyter-widgets/base",
          "model_name": "LayoutModel",
          "model_module_version": "1.2.0",
          "state": {
            "_model_module": "@jupyter-widgets/base",
            "_model_module_version": "1.2.0",
            "_model_name": "LayoutModel",
            "_view_count": null,
            "_view_module": "@jupyter-widgets/base",
            "_view_module_version": "1.2.0",
            "_view_name": "LayoutView",
            "align_content": null,
            "align_items": null,
            "align_self": null,
            "border": null,
            "bottom": null,
            "display": null,
            "flex": null,
            "flex_flow": null,
            "grid_area": null,
            "grid_auto_columns": null,
            "grid_auto_flow": null,
            "grid_auto_rows": null,
            "grid_column": null,
            "grid_gap": null,
            "grid_row": null,
            "grid_template_areas": null,
            "grid_template_columns": null,
            "grid_template_rows": null,
            "height": null,
            "justify_content": null,
            "justify_items": null,
            "left": null,
            "margin": null,
            "max_height": null,
            "max_width": null,
            "min_height": null,
            "min_width": null,
            "object_fit": null,
            "object_position": null,
            "order": null,
            "overflow": null,
            "overflow_x": null,
            "overflow_y": null,
            "padding": null,
            "right": null,
            "top": null,
            "visibility": null,
            "width": null
          }
        },
        "a4da2ec667a04aa1bf582a4e91716853": {
          "model_module": "@jupyter-widgets/base",
          "model_name": "LayoutModel",
          "model_module_version": "1.2.0",
          "state": {
            "_model_module": "@jupyter-widgets/base",
            "_model_module_version": "1.2.0",
            "_model_name": "LayoutModel",
            "_view_count": null,
            "_view_module": "@jupyter-widgets/base",
            "_view_module_version": "1.2.0",
            "_view_name": "LayoutView",
            "align_content": null,
            "align_items": null,
            "align_self": null,
            "border": null,
            "bottom": null,
            "display": null,
            "flex": null,
            "flex_flow": null,
            "grid_area": null,
            "grid_auto_columns": null,
            "grid_auto_flow": null,
            "grid_auto_rows": null,
            "grid_column": null,
            "grid_gap": null,
            "grid_row": null,
            "grid_template_areas": null,
            "grid_template_columns": null,
            "grid_template_rows": null,
            "height": null,
            "justify_content": null,
            "justify_items": null,
            "left": null,
            "margin": null,
            "max_height": null,
            "max_width": null,
            "min_height": null,
            "min_width": null,
            "object_fit": null,
            "object_position": null,
            "order": null,
            "overflow": null,
            "overflow_x": null,
            "overflow_y": null,
            "padding": null,
            "right": null,
            "top": null,
            "visibility": null,
            "width": null
          }
        },
        "fbf2ceac100b4cf38ea651a466eaded4": {
          "model_module": "@jupyter-widgets/controls",
          "model_name": "DescriptionStyleModel",
          "model_module_version": "1.5.0",
          "state": {
            "_model_module": "@jupyter-widgets/controls",
            "_model_module_version": "1.5.0",
            "_model_name": "DescriptionStyleModel",
            "_view_count": null,
            "_view_module": "@jupyter-widgets/base",
            "_view_module_version": "1.2.0",
            "_view_name": "StyleView",
            "description_width": ""
          }
        },
        "c19c03e25b2a4b5d90f58ae4c30c6c04": {
          "model_module": "@jupyter-widgets/base",
          "model_name": "LayoutModel",
          "model_module_version": "1.2.0",
          "state": {
            "_model_module": "@jupyter-widgets/base",
            "_model_module_version": "1.2.0",
            "_model_name": "LayoutModel",
            "_view_count": null,
            "_view_module": "@jupyter-widgets/base",
            "_view_module_version": "1.2.0",
            "_view_name": "LayoutView",
            "align_content": null,
            "align_items": null,
            "align_self": null,
            "border": null,
            "bottom": null,
            "display": null,
            "flex": null,
            "flex_flow": null,
            "grid_area": null,
            "grid_auto_columns": null,
            "grid_auto_flow": null,
            "grid_auto_rows": null,
            "grid_column": null,
            "grid_gap": null,
            "grid_row": null,
            "grid_template_areas": null,
            "grid_template_columns": null,
            "grid_template_rows": null,
            "height": null,
            "justify_content": null,
            "justify_items": null,
            "left": null,
            "margin": null,
            "max_height": null,
            "max_width": null,
            "min_height": null,
            "min_width": null,
            "object_fit": null,
            "object_position": null,
            "order": null,
            "overflow": null,
            "overflow_x": null,
            "overflow_y": null,
            "padding": null,
            "right": null,
            "top": null,
            "visibility": null,
            "width": null
          }
        },
        "f4707a931f8043f288bf3d55259e8dce": {
          "model_module": "@jupyter-widgets/controls",
          "model_name": "ProgressStyleModel",
          "model_module_version": "1.5.0",
          "state": {
            "_model_module": "@jupyter-widgets/controls",
            "_model_module_version": "1.5.0",
            "_model_name": "ProgressStyleModel",
            "_view_count": null,
            "_view_module": "@jupyter-widgets/base",
            "_view_module_version": "1.2.0",
            "_view_name": "StyleView",
            "bar_color": null,
            "description_width": ""
          }
        },
        "c24d8529183d409684dc95c739803f6a": {
          "model_module": "@jupyter-widgets/base",
          "model_name": "LayoutModel",
          "model_module_version": "1.2.0",
          "state": {
            "_model_module": "@jupyter-widgets/base",
            "_model_module_version": "1.2.0",
            "_model_name": "LayoutModel",
            "_view_count": null,
            "_view_module": "@jupyter-widgets/base",
            "_view_module_version": "1.2.0",
            "_view_name": "LayoutView",
            "align_content": null,
            "align_items": null,
            "align_self": null,
            "border": null,
            "bottom": null,
            "display": null,
            "flex": null,
            "flex_flow": null,
            "grid_area": null,
            "grid_auto_columns": null,
            "grid_auto_flow": null,
            "grid_auto_rows": null,
            "grid_column": null,
            "grid_gap": null,
            "grid_row": null,
            "grid_template_areas": null,
            "grid_template_columns": null,
            "grid_template_rows": null,
            "height": null,
            "justify_content": null,
            "justify_items": null,
            "left": null,
            "margin": null,
            "max_height": null,
            "max_width": null,
            "min_height": null,
            "min_width": null,
            "object_fit": null,
            "object_position": null,
            "order": null,
            "overflow": null,
            "overflow_x": null,
            "overflow_y": null,
            "padding": null,
            "right": null,
            "top": null,
            "visibility": null,
            "width": null
          }
        },
        "9037a8778f5f44e8b923fb7b23968c0d": {
          "model_module": "@jupyter-widgets/controls",
          "model_name": "DescriptionStyleModel",
          "model_module_version": "1.5.0",
          "state": {
            "_model_module": "@jupyter-widgets/controls",
            "_model_module_version": "1.5.0",
            "_model_name": "DescriptionStyleModel",
            "_view_count": null,
            "_view_module": "@jupyter-widgets/base",
            "_view_module_version": "1.2.0",
            "_view_name": "StyleView",
            "description_width": ""
          }
        }
      }
    }
  },
  "cells": [
    {
      "cell_type": "code",
      "execution_count": 1,
      "metadata": {
        "colab": {
          "base_uri": "https://localhost:8080/"
        },
        "id": "rirA6TFbZIxj",
        "outputId": "f2a7e1ed-1e9e-499a-c0cb-fd792374a778"
      },
      "outputs": [
        {
          "output_type": "stream",
          "name": "stdout",
          "text": [
            "--2022-11-04 13:09:04--  https://docs.google.com/uc?export=download&id=1cY7D-V6iEy45sJ84zbh7LKNFA7vKkn_A\n",
            "Resolving docs.google.com (docs.google.com)... 108.177.13.113, 108.177.13.100, 108.177.13.139, ...\n",
            "Connecting to docs.google.com (docs.google.com)|108.177.13.113|:443... connected.\n",
            "HTTP request sent, awaiting response... 303 See Other\n",
            "Location: https://doc-0g-6o-docs.googleusercontent.com/docs/securesc/ha0ro937gcuc7l7deffksulhg5h7mbp1/l8p47m5lnvdqmlh9ua1hfe27cp6ndvmp/1667567325000/12963386087711609264/*/1cY7D-V6iEy45sJ84zbh7LKNFA7vKkn_A?e=download&uuid=1c70eb01-48a5-4160-aa7f-5028c03a2fce [following]\n",
            "Warning: wildcards not supported in HTTP.\n",
            "--2022-11-04 13:09:09--  https://doc-0g-6o-docs.googleusercontent.com/docs/securesc/ha0ro937gcuc7l7deffksulhg5h7mbp1/l8p47m5lnvdqmlh9ua1hfe27cp6ndvmp/1667567325000/12963386087711609264/*/1cY7D-V6iEy45sJ84zbh7LKNFA7vKkn_A?e=download&uuid=1c70eb01-48a5-4160-aa7f-5028c03a2fce\n",
            "Resolving doc-0g-6o-docs.googleusercontent.com (doc-0g-6o-docs.googleusercontent.com)... 74.125.31.132, 2607:f8b0:400c:c02::84\n",
            "Connecting to doc-0g-6o-docs.googleusercontent.com (doc-0g-6o-docs.googleusercontent.com)|74.125.31.132|:443... connected.\n",
            "HTTP request sent, awaiting response... 200 OK\n",
            "Length: 30696129 (29M) [text/csv]\n",
            "Saving to: ‘news.csv’\n",
            "\n",
            "news.csv            100%[===================>]  29.27M  78.0MB/s    in 0.4s    \n",
            "\n",
            "2022-11-04 13:09:10 (78.0 MB/s) - ‘news.csv’ saved [30696129/30696129]\n",
            "\n",
            "Looking in indexes: https://pypi.org/simple, https://us-python.pkg.dev/colab-wheels/public/simple/\n",
            "Collecting transformers\n",
            "  Downloading transformers-4.24.0-py3-none-any.whl (5.5 MB)\n",
            "\u001b[K     |████████████████████████████████| 5.5 MB 4.2 MB/s \n",
            "\u001b[?25hRequirement already satisfied: importlib-metadata in /usr/local/lib/python3.7/dist-packages (from transformers) (4.13.0)\n",
            "Requirement already satisfied: pyyaml>=5.1 in /usr/local/lib/python3.7/dist-packages (from transformers) (6.0)\n",
            "Requirement already satisfied: filelock in /usr/local/lib/python3.7/dist-packages (from transformers) (3.8.0)\n",
            "Requirement already satisfied: regex!=2019.12.17 in /usr/local/lib/python3.7/dist-packages (from transformers) (2022.6.2)\n",
            "Requirement already satisfied: numpy>=1.17 in /usr/local/lib/python3.7/dist-packages (from transformers) (1.21.6)\n",
            "Collecting tokenizers!=0.11.3,<0.14,>=0.11.1\n",
            "  Downloading tokenizers-0.13.1-cp37-cp37m-manylinux_2_17_x86_64.manylinux2014_x86_64.whl (7.6 MB)\n",
            "\u001b[K     |████████████████████████████████| 7.6 MB 54.7 MB/s \n",
            "\u001b[?25hRequirement already satisfied: packaging>=20.0 in /usr/local/lib/python3.7/dist-packages (from transformers) (21.3)\n",
            "Collecting huggingface-hub<1.0,>=0.10.0\n",
            "  Downloading huggingface_hub-0.10.1-py3-none-any.whl (163 kB)\n",
            "\u001b[K     |████████████████████████████████| 163 kB 50.1 MB/s \n",
            "\u001b[?25hRequirement already satisfied: requests in /usr/local/lib/python3.7/dist-packages (from transformers) (2.23.0)\n",
            "Requirement already satisfied: tqdm>=4.27 in /usr/local/lib/python3.7/dist-packages (from transformers) (4.64.1)\n",
            "Requirement already satisfied: typing-extensions>=3.7.4.3 in /usr/local/lib/python3.7/dist-packages (from huggingface-hub<1.0,>=0.10.0->transformers) (4.1.1)\n",
            "Requirement already satisfied: pyparsing!=3.0.5,>=2.0.2 in /usr/local/lib/python3.7/dist-packages (from packaging>=20.0->transformers) (3.0.9)\n",
            "Requirement already satisfied: zipp>=0.5 in /usr/local/lib/python3.7/dist-packages (from importlib-metadata->transformers) (3.10.0)\n",
            "Requirement already satisfied: urllib3!=1.25.0,!=1.25.1,<1.26,>=1.21.1 in /usr/local/lib/python3.7/dist-packages (from requests->transformers) (1.24.3)\n",
            "Requirement already satisfied: certifi>=2017.4.17 in /usr/local/lib/python3.7/dist-packages (from requests->transformers) (2022.9.24)\n",
            "Requirement already satisfied: idna<3,>=2.5 in /usr/local/lib/python3.7/dist-packages (from requests->transformers) (2.10)\n",
            "Requirement already satisfied: chardet<4,>=3.0.2 in /usr/local/lib/python3.7/dist-packages (from requests->transformers) (3.0.4)\n",
            "Installing collected packages: tokenizers, huggingface-hub, transformers\n",
            "Successfully installed huggingface-hub-0.10.1 tokenizers-0.13.1 transformers-4.24.0\n"
          ]
        }
      ],
      "source": [
        "!wget --no-check-certificate 'https://docs.google.com/uc?export=download&id=1cY7D-V6iEy45sJ84zbh7LKNFA7vKkn_A' -O news.csv\n",
        "!pip install transformers"
      ]
    },
    {
      "cell_type": "code",
      "source": [
        "import matplotlib.pyplot as plt\n",
        "import pandas as pd\n",
        "import torch\n",
        "import time\n",
        "import numpy as np\n",
        "\n",
        "# Preliminaries\n",
        "\n",
        "import torch.nn as nn\n",
        "from torch.utils.data import Dataset, DataLoader\n",
        "from transformers import BertTokenizer, BertModel\n",
        "from transformers import DistilBertTokenizerFast, DistilBertModel\n",
        "import torch\n",
        "from tqdm import tqdm\n",
        "\n",
        "# Training\n",
        "\n",
        "import torch.optim as optim\n",
        "\n",
        "# Evaluation\n",
        "\n",
        "from sklearn.metrics import accuracy_score, classification_report, confusion_matrix\n",
        "from sklearn.model_selection import train_test_split\n",
        "from sklearn.preprocessing import LabelEncoder\n",
        "from sklearn.model_selection import train_test_split\n",
        "import seaborn as sns\n",
        "from numpy.random import RandomState\n",
        "import gc\n",
        "\n",
        "#pruning\n",
        "import torch.nn.utils.prune as prune\n",
        "import torch.nn.functional as F\n",
        "\n",
        "device = torch.device('cuda' if torch.cuda.is_available() else 'cpu')\n",
        "df = pd.read_csv('news.csv')\n",
        "\n",
        "encoder = LabelEncoder()\n",
        "df.label = encoder.fit_transform(df.label)\n",
        "df['titletext'] = df['title'] + ' ' + df['text']\n",
        "\n",
        "\n",
        "train_texts, test_texts, train_labels, test_labels = train_test_split(df['titletext'].values.tolist(), df['label'].values.tolist(), test_size=.2)\n",
        "train_texts, val_texts, train_labels, val_labels = train_test_split(train_texts, train_labels, test_size=.25)\n",
        "\n",
        "tokenizer = BertTokenizer.from_pretrained('bert-base-uncased')"
      ],
      "metadata": {
        "colab": {
          "base_uri": "https://localhost:8080/",
          "height": 113,
          "referenced_widgets": [
            "22204c525a21432aa2642651f10a1b50",
            "2d2c5b3a35ba47529fb7ade100af11ff",
            "a4479415258f4205b9b7142bdaf9ca59",
            "3dabb7057ffd411090089e1564381cdc",
            "f2e5eaf0ae5e416ab50ef800854760ca",
            "a424312a9f2b4d20947fd2a6f07958d4",
            "864f503d4ad84921932564010b4204d6",
            "17eeb8735dd340b887152620a895819a",
            "23b93d2082a24ad3ab9495d001924117",
            "90757f2f66c543a781f29254090c408e",
            "92f122d876e34baebc91b41b1dd8ba9e",
            "89ab65563b9f4ad3a3fc247ecb9448a2",
            "96ce2e82a55a4bb590686654c161d53e",
            "044abfa1b07b4fbbb221cda6181859bc",
            "4ab60567ccb2473a85e24ad68696dcf0",
            "f120117f6981418a8fc0266352cea7e4",
            "6300b549ee1949b5b0b45ca9d04f4365",
            "50d585a460f44ea5bccf6834e2210951",
            "4189775e96924bbf8f567a294586b451",
            "a13913d488d748c5aa3d29fd94fa2521",
            "87500d1bc5b44adcb229f778f0b8b804",
            "01e37126e5d74549ba94407bc6e2d75b",
            "f858a89d876242698b60cf4c11bf1967",
            "71ad827cc9e44d42b2a678265fd8cad4",
            "4a771181acc34a638815a18e368fa63c",
            "b045d199fb334ce3afe40fecb673db07",
            "497e73877e53446ca03006f5f636a8a8",
            "a4da2ec667a04aa1bf582a4e91716853",
            "fbf2ceac100b4cf38ea651a466eaded4",
            "c19c03e25b2a4b5d90f58ae4c30c6c04",
            "f4707a931f8043f288bf3d55259e8dce",
            "c24d8529183d409684dc95c739803f6a",
            "9037a8778f5f44e8b923fb7b23968c0d"
          ]
        },
        "id": "cwu1B53xZZJf",
        "outputId": "799974c8-38fb-45c1-894f-4a3176cf9bca"
      },
      "execution_count": 2,
      "outputs": [
        {
          "output_type": "display_data",
          "data": {
            "text/plain": [
              "Downloading:   0%|          | 0.00/232k [00:00<?, ?B/s]"
            ],
            "application/vnd.jupyter.widget-view+json": {
              "version_major": 2,
              "version_minor": 0,
              "model_id": "22204c525a21432aa2642651f10a1b50"
            }
          },
          "metadata": {}
        },
        {
          "output_type": "display_data",
          "data": {
            "text/plain": [
              "Downloading:   0%|          | 0.00/28.0 [00:00<?, ?B/s]"
            ],
            "application/vnd.jupyter.widget-view+json": {
              "version_major": 2,
              "version_minor": 0,
              "model_id": "89ab65563b9f4ad3a3fc247ecb9448a2"
            }
          },
          "metadata": {}
        },
        {
          "output_type": "display_data",
          "data": {
            "text/plain": [
              "Downloading:   0%|          | 0.00/570 [00:00<?, ?B/s]"
            ],
            "application/vnd.jupyter.widget-view+json": {
              "version_major": 2,
              "version_minor": 0,
              "model_id": "f858a89d876242698b60cf4c11bf1967"
            }
          },
          "metadata": {}
        }
      ]
    },
    {
      "cell_type": "code",
      "source": [
        "# Determine the locations of auxiliary libraries and datasets.\n",
        "# `AUX_DATA_ROOT` is where 'tiny-imagenet-2022.zip' is.\n",
        "\n",
        "# Detect if we are in Google Colaboratory\n",
        "try:\n",
        "    import google.colab\n",
        "    IN_COLAB = True\n",
        "except ImportError:\n",
        "    IN_COLAB = False\n",
        "\n",
        "from pathlib import Path\n",
        "if IN_COLAB:\n",
        "    google.colab.drive.mount(\"/content/drive\")\n",
        "    \n",
        "    # Change this if you created the shortcut in a different location\n",
        "    AUX_DATA_ROOT = Path(\"/content/drive/My Drive/Transformer_compression\")\n",
        "    \n",
        "    assert AUX_DATA_ROOT.is_dir(), \"Have you forgot to 'Add a shortcut to Drive'?\"\n",
        "    \n",
        "    import sys\n",
        "    sys.path.append(str(AUX_DATA_ROOT))\n",
        "else:\n",
        "    AUX_DATA_ROOT = Path(\".\")"
      ],
      "metadata": {
        "colab": {
          "base_uri": "https://localhost:8080/"
        },
        "id": "hV4VlKK1ZZap",
        "outputId": "669a2c86-11ed-464b-b1f5-d058e85845f1"
      },
      "execution_count": 3,
      "outputs": [
        {
          "output_type": "stream",
          "name": "stdout",
          "text": [
            "Mounted at /content/drive\n"
          ]
        }
      ]
    },
    {
      "cell_type": "code",
      "source": [
        "%%time\n",
        "\n",
        "train_encodings = tokenizer(train_texts, truncation=True, padding=True)\n",
        "val_encodings = tokenizer(val_texts, truncation=True, padding=True)\n",
        "test_encodings = tokenizer(test_texts, truncation=True, padding=True)\n",
        "\n"
      ],
      "metadata": {
        "colab": {
          "base_uri": "https://localhost:8080/"
        },
        "id": "fujmo3WIZb0F",
        "outputId": "2ecac364-872d-40f4-8767-782093843c34"
      },
      "execution_count": 4,
      "outputs": [
        {
          "output_type": "stream",
          "name": "stdout",
          "text": [
            "CPU times: user 2min 2s, sys: 453 ms, total: 2min 2s\n",
            "Wall time: 2min 5s\n"
          ]
        }
      ]
    },
    {
      "cell_type": "code",
      "source": [
        "class FakeNewsDataset(Dataset):\n",
        "    def __init__(self, encodings, labels):\n",
        "        self.encodings = encodings\n",
        "        self.labels = labels\n",
        "\n",
        "    def __getitem__(self, idx):\n",
        "        item = {key: torch.tensor(val[idx]) for key, val in self.encodings.items()}\n",
        "        item['labels'] = torch.tensor(self.labels[idx])\n",
        "        return item\n",
        "\n",
        "    def __len__(self):\n",
        "        return len(self.labels)"
      ],
      "metadata": {
        "id": "_ff2E_mNZeJH"
      },
      "execution_count": 5,
      "outputs": []
    },
    {
      "cell_type": "code",
      "source": [
        "train_dataset = FakeNewsDataset(train_encodings, train_labels)\n",
        "val_dataset = FakeNewsDataset(val_encodings, val_labels)\n",
        "test_dataset = FakeNewsDataset(test_encodings, test_labels)\n",
        "\n",
        "batch_size = 8\n",
        "train_iter = DataLoader(train_dataset, batch_size=batch_size, num_workers=2)\n",
        "valid_iter = DataLoader(val_dataset, batch_size=batch_size, num_workers=2)\n",
        "test_iter = DataLoader(test_dataset, batch_size=batch_size, num_workers=2)"
      ],
      "metadata": {
        "id": "XD8hJgEkZfdn"
      },
      "execution_count": 6,
      "outputs": []
    },
    {
      "cell_type": "code",
      "source": [
        "\n",
        "\n",
        "class Bert_Model(nn.Module):\n",
        "    def __init__(self, classes):\n",
        "        super(Bert_Model, self).__init__()\n",
        "        self.bert = BertModel.from_pretrained('bert-base-uncased')\n",
        "        self.out = nn.Linear(self.bert.config.hidden_size, classes)\n",
        "\n",
        "    def forward(self, input, attention_mask):\n",
        "        bert_output = self.bert(input, attention_mask = attention_mask)\n",
        "        output = self.out(bert_output[1])\n",
        "        return output\n",
        "\n",
        "# Save and Load Functions\n",
        "\n",
        "def save_checkpoint(save_path, model, valid_loss):\n",
        "\n",
        "    if save_path == None:\n",
        "        return\n",
        "    \n",
        "    state_dict = {'model_state_dict': model.state_dict(),\n",
        "                  'valid_loss': valid_loss}\n",
        "    \n",
        "    torch.save(state_dict, save_path)\n",
        "    print(f'Model saved to ==> {save_path}')\n",
        "\n",
        "def load_checkpoint(load_path, model):\n",
        "    \n",
        "    if load_path==None:\n",
        "        return\n",
        "    \n",
        "    state_dict = torch.load(load_path, map_location=device)\n",
        "    print(f'Model loaded from <== {load_path}')\n",
        "    \n",
        "    model.load_state_dict(state_dict['model_state_dict'])\n",
        "    return state_dict['valid_loss']\n",
        "\n",
        "\n",
        "def save_metrics(save_path, train_loss_list, valid_loss_list, global_steps_list):\n",
        "\n",
        "    if save_path == None:\n",
        "        return\n",
        "    \n",
        "    state_dict = {'train_loss_list': train_loss_list,\n",
        "                  'valid_loss_list': valid_loss_list,\n",
        "                  'global_steps_list': global_steps_list}\n",
        "    \n",
        "    torch.save(state_dict, save_path)\n",
        "    print(f'Model saved to ==> {save_path}')\n",
        "\n",
        "\n",
        "def load_metrics(load_path):\n",
        "\n",
        "    if load_path==None:\n",
        "        return\n",
        "    \n",
        "    state_dict = torch.load(load_path, map_location=device)\n",
        "    print(f'Model loaded from <== {load_path}')\n",
        "    \n",
        "    return state_dict['train_loss_list'], state_dict['valid_loss_list'], state_dict['global_steps_list']\n",
        "\n",
        "\n",
        "def cleanup():\n",
        "    gc.collect()\n",
        "    torch.cuda.empty_cache()\n",
        "\n",
        "# Training Function\n",
        "\n",
        "def train(model,\n",
        "          optimizer,\n",
        "          criterion = nn.CrossEntropyLoss(),\n",
        "          train_loader = train_iter,\n",
        "          valid_loader = valid_iter,\n",
        "          num_epochs = 5,\n",
        "          eval_every = len(train_iter) // 2,\n",
        "          file_path = './',\n",
        "          best_valid_loss = float(\"Inf\")):\n",
        "    \n",
        "    # initialize running values\n",
        "    running_loss = 0.0\n",
        "    valid_running_loss = 0.0\n",
        "    global_step = 0\n",
        "    train_loss_list = []\n",
        "    valid_loss_list = []\n",
        "    global_steps_list = []\n",
        "\n",
        "    # training loop\n",
        "    model.train()\n",
        "    for epoch in range(num_epochs):\n",
        "        for model_inputs in train_loader:\n",
        "            output = model(model_inputs['input_ids'].to(device), model_inputs['attention_mask'].to(device))\n",
        "            loss = criterion(output, model_inputs['labels'].to(device))\n",
        "\n",
        "            optimizer.zero_grad()\n",
        "            loss.backward()\n",
        "            optimizer.step()\n",
        "\n",
        "            # update running values\n",
        "            running_loss += loss.item()\n",
        "            global_step += 1\n",
        "\n",
        "            # evaluation step\n",
        "            if global_step % eval_every == 0:\n",
        "                model.eval()\n",
        "                with torch.no_grad():                    \n",
        "\n",
        "                    # validation loop\n",
        "                    for model_inputs in valid_loader:\n",
        "                        output = model(model_inputs['input_ids'].to(device), model_inputs['attention_mask'].to(device))\n",
        "                        loss = criterion(output, model_inputs['labels'].to(device))\n",
        "                        \n",
        "                        valid_running_loss += loss.item()\n",
        "                        \n",
        "                        cleanup()\n",
        "\n",
        "                # evaluation\n",
        "                average_train_loss = running_loss / eval_every\n",
        "                average_valid_loss = valid_running_loss / len(valid_loader)\n",
        "                train_loss_list.append(average_train_loss)\n",
        "                valid_loss_list.append(average_valid_loss)\n",
        "                global_steps_list.append(global_step)\n",
        "\n",
        "                # resetting running values\n",
        "                running_loss = 0.0                \n",
        "                valid_running_loss = 0.0\n",
        "                model.train()\n",
        "\n",
        "                # print progress\n",
        "                print('Epoch [{}/{}], Step [{}/{}], Train Loss: {:.4f}, Valid Loss: {:.4f}'\n",
        "                      .format(epoch+1, num_epochs, global_step, num_epochs*len(train_loader),\n",
        "                              average_train_loss, average_valid_loss))\n",
        "                \n",
        "                # checkpoint\n",
        "                if best_valid_loss > average_valid_loss:\n",
        "                    best_valid_loss = average_valid_loss\n",
        "                    save_checkpoint(file_path + '/' + 'model.pt', model, best_valid_loss)\n",
        "                    save_metrics(file_path + '/' + 'metrics.pt', train_loss_list, valid_loss_list, global_steps_list)\n",
        "                    \n",
        "            cleanup()\n",
        "    \n",
        "    save_metrics(file_path + '/' + 'metrics.pt', train_loss_list, valid_loss_list, global_steps_list)\n",
        "    print('Finished Training!')\n",
        "\n",
        "# Validation Function\n",
        "\n",
        "def validate(model,\n",
        "          optimizer,\n",
        "          criterion = nn.CrossEntropyLoss(),\n",
        "          train_loader = train_iter,\n",
        "          valid_loader = valid_iter,\n",
        "          num_epochs = 1,\n",
        "          eval_every = len(valid_iter) // 2,\n",
        "          file_path = './',\n",
        "          best_valid_loss = float(\"Inf\")):\n",
        "    \n",
        "    # initialize running values\n",
        "    running_loss = 0.0\n",
        "    valid_running_loss = 0.0\n",
        "    global_step = 0\n",
        "    valid_loss_list = []\n",
        "    global_steps_list = []\n",
        "\n",
        "    # training loop\n",
        "    model.train()\n",
        "    for epoch in range(num_epochs):\n",
        "        for model_inputs in valid_loader:\n",
        "            # output = model(model_inputs['input_ids'].to(device), model_inputs['attention_mask'].to(device))\n",
        "            # loss = criterion(output, model_inputs['labels'].to(device))\n",
        "\n",
        "            # optimizer.zero_grad()\n",
        "            # loss.backward()\n",
        "            # optimizer.step()\n",
        "\n",
        "            # # update running values\n",
        "            # running_loss += loss.item()\n",
        "            global_step += 1\n",
        "\n",
        "            # evaluation step\n",
        "            \n",
        "            model.eval()\n",
        "            with torch.no_grad():                    \n",
        "\n",
        "                # validation loop\n",
        "                # for model_inputs in valid_loader:\n",
        "                output = model(model_inputs['input_ids'].to(device), model_inputs['attention_mask'].to(device))\n",
        "                loss = criterion(output, model_inputs['labels'].to(device))\n",
        "                \n",
        "                valid_running_loss += loss.item()\n",
        "                \n",
        "                cleanup()\n",
        "\n",
        "                # evaluation\n",
        "                # average_train_loss = running_loss / eval_every\n",
        "    average_valid_loss = valid_running_loss / len(valid_loader)\n",
        "    # train_loss_list.append(average_train_loss)\n",
        "    valid_loss_list.append(average_valid_loss)\n",
        "    global_steps_list.append(global_step)\n",
        "\n",
        "    # resetting running values\n",
        "    # running_loss = 0.0                \n",
        "    valid_running_loss = 0.0\n",
        "    # model.train()\n",
        "\n",
        "    # print progress\n",
        "    print('Epoch [{}/{}], Step [{}/{}], Valid Loss: {:.4f}'\n",
        "          .format(epoch+1, num_epochs, global_step, num_epochs*len(valid_loader),\n",
        "                    average_valid_loss))\n",
        "                \n",
        "                # checkpoint\n",
        "                # if best_valid_loss > average_valid_loss:\n",
        "                #     best_valid_loss = average_valid_loss\n",
        "                #     save_checkpoint(file_path + '/' + 'model.pt', model, best_valid_loss)\n",
        "                #     save_metrics(file_path + '/' + 'metrics.pt', train_loss_list, valid_loss_list, global_steps_list)\n",
        "                    \n",
        "    cleanup()\n",
        "    \n",
        "    # save_metrics(file_path + '/' + 'metrics.pt', train_loss_list, valid_loss_list, global_steps_list)\n",
        "    print('Finished Validation!')\n",
        "\n",
        "# Evaluation Function\n",
        "from sklearn.metrics import f1_score\n",
        "def evaluate(model, test_loader):\n",
        "    y_pred = []\n",
        "    y_true = []\n",
        "\n",
        "    model.eval()\n",
        "    eval_times = []\n",
        "    \n",
        "    with torch.no_grad():\n",
        "        for model_inputs in test_loader:\n",
        "                start = time.time()\n",
        "                output = model(model_inputs['input_ids'].to(device), model_inputs['attention_mask'].to(device))\n",
        "                eval_times.append(time.time() - start)\n",
        "                y_pred.extend(torch.argmax(output, 1).tolist())\n",
        "                y_true.extend(model_inputs['labels'].tolist())\n",
        "    print(f'Average inference time = {np.array(eval_times[:-2]).mean()}')\n",
        "    print('Classification Report:')\n",
        "    print(classification_report(y_true, y_pred, labels=[1,0], digits=4))\n",
        "    \n",
        "    cm = confusion_matrix(y_true, y_pred, labels=[1,0])\n",
        "    ax= plt.subplot()\n",
        "    sns.heatmap(cm, annot=True, ax = ax, cmap='Blues', fmt=\"d\")\n",
        "\n",
        "    ax.set_title('Confusion Matrix')\n",
        "\n",
        "    ax.set_xlabel('Predicted Labels')\n",
        "    ax.set_ylabel('True Labels')\n",
        "\n",
        "    ax.xaxis.set_ticklabels(['FAKE', 'REAL'])\n",
        "    ax.yaxis.set_ticklabels(['FAKE', 'REAL'])\n",
        "    # return accuracy_score(y_true, y_pred), f1_score(y_true, y_pred)\n",
        "\n",
        "def eval_metrics(model, test_loader):\n",
        "    y_pred = []\n",
        "    y_true = []\n",
        "\n",
        "    model.eval()\n",
        "    eval_times = []\n",
        "    \n",
        "    with torch.no_grad():\n",
        "        for model_inputs in test_loader:\n",
        "                start = time.time()\n",
        "                output = model(model_inputs['input_ids'].to(device), model_inputs['attention_mask'].to(device))\n",
        "                eval_times.append(time.time() - start)\n",
        "                y_pred.extend(torch.argmax(output, 1).tolist())\n",
        "                y_true.extend(model_inputs['labels'].tolist())\n",
        "    # print(f'Average inference time = {np.array(eval_times[:-2]).mean()}')\n",
        "    # print('Classification Report:')\n",
        "    # print(classification_report(y_true, y_pred, labels=[1,0], digits=4))\n",
        "    \n",
        "    # cm = confusion_matrix(y_true, y_pred, labels=[1,0])\n",
        "    # ax= plt.subplot()\n",
        "    # sns.heatmap(cm, annot=True, ax = ax, cmap='Blues', fmt=\"d\")\n",
        "\n",
        "    # ax.set_title('Confusion Matrix')\n",
        "\n",
        "    # ax.set_xlabel('Predicted Labels')\n",
        "    # ax.set_ylabel('True Labels')\n",
        "\n",
        "    # ax.xaxis.set_ticklabels(['FAKE', 'REAL'])\n",
        "    # ax.yaxis.set_ticklabels(['FAKE', 'REAL'])\n",
        "    return accuracy_score(y_true, y_pred), f1_score(y_true, y_pred)"
      ],
      "metadata": {
        "id": "3cavkSDYZhR7"
      },
      "execution_count": 7,
      "outputs": []
    },
    {
      "cell_type": "code",
      "source": [
        "train_dataset = FakeNewsDataset(train_encodings, train_labels)\n",
        "val_dataset = FakeNewsDataset(val_encodings, val_labels)\n",
        "test_dataset = FakeNewsDataset(test_encodings, test_labels)\n",
        "\n",
        "batch_size = 8\n",
        "train_iter = DataLoader(train_dataset, batch_size=batch_size, num_workers=2)\n",
        "valid_iter = DataLoader(val_dataset, batch_size=batch_size, num_workers=2)\n",
        "test_iter = DataLoader(test_dataset, batch_size=batch_size, num_workers=2)\n",
        "\n"
      ],
      "metadata": {
        "id": "9L5CZT-jZi27"
      },
      "execution_count": 8,
      "outputs": []
    },
    {
      "cell_type": "code",
      "source": [
        "# model = Bert_Model(2).to(device)\n",
        "# optimizer = optim.Adam(model.parameters(), lr=2e-5)\n",
        "\n",
        "# train(model=model, optimizer=optimizer, num_epochs=5)"
      ],
      "metadata": {
        "id": "V7pHdCIKZkYd"
      },
      "execution_count": null,
      "outputs": []
    },
    {
      "cell_type": "code",
      "source": [
        "# ! cp ./drive/MyDrive/Transformer_compression/model_simple.pt model.pt "
      ],
      "metadata": {
        "id": "zagefh4HZyE_"
      },
      "execution_count": 12,
      "outputs": []
    },
    {
      "cell_type": "code",
      "source": [
        "best_model_clear = Bert_Model(2).to(device)\n",
        "\n",
        "load_checkpoint('./model.pt', best_model_clear)"
      ],
      "metadata": {
        "colab": {
          "base_uri": "https://localhost:8080/"
        },
        "id": "HFSaFi-wf4ef",
        "outputId": "6bb68945-200e-4f52-9433-bec226719f33"
      },
      "execution_count": 13,
      "outputs": [
        {
          "output_type": "stream",
          "name": "stderr",
          "text": [
            "Some weights of the model checkpoint at bert-base-uncased were not used when initializing BertModel: ['cls.predictions.transform.LayerNorm.weight', 'cls.predictions.bias', 'cls.predictions.transform.dense.bias', 'cls.predictions.transform.dense.weight', 'cls.seq_relationship.weight', 'cls.predictions.decoder.weight', 'cls.predictions.transform.LayerNorm.bias', 'cls.seq_relationship.bias']\n",
            "- This IS expected if you are initializing BertModel from the checkpoint of a model trained on another task or with another architecture (e.g. initializing a BertForSequenceClassification model from a BertForPreTraining model).\n",
            "- This IS NOT expected if you are initializing BertModel from the checkpoint of a model that you expect to be exactly identical (initializing a BertForSequenceClassification model from a BertForSequenceClassification model).\n"
          ]
        },
        {
          "output_type": "stream",
          "name": "stdout",
          "text": [
            "Model loaded from <== ./model.pt\n"
          ]
        },
        {
          "output_type": "execute_result",
          "data": {
            "text/plain": [
              "0.07210410782868194"
            ]
          },
          "metadata": {},
          "execution_count": 13
        }
      ]
    },
    {
      "cell_type": "code",
      "source": [
        "start = time.time()\n",
        "evaluate(best_model_clear, test_iter)\n",
        "print(f'total time: {time.time() - start}')"
      ],
      "metadata": {
        "colab": {
          "base_uri": "https://localhost:8080/",
          "height": 503
        },
        "id": "E34SZdasgNLz",
        "outputId": "9f56e1f9-f0a7-4173-c0be-b212190f387d"
      },
      "execution_count": 14,
      "outputs": [
        {
          "output_type": "stream",
          "name": "stdout",
          "text": [
            "Average inference time = 0.014613116622730425\n",
            "Classification Report:\n",
            "              precision    recall  f1-score   support\n",
            "\n",
            "           1     0.9843    0.9617    0.9728       652\n",
            "           0     0.9603    0.9837    0.9719       615\n",
            "\n",
            "    accuracy                         0.9724      1267\n",
            "   macro avg     0.9723    0.9727    0.9724      1267\n",
            "weighted avg     0.9727    0.9724    0.9724      1267\n",
            "\n",
            "total time: 44.91445517539978\n"
          ]
        },
        {
          "output_type": "display_data",
          "data": {
            "text/plain": [
              "<Figure size 432x288 with 2 Axes>"
            ],
            "image/png": "[encoded data removed]"
          },
          "metadata": {
            "needs_background": "light"
          }
        }
      ]
    },
    {
      "cell_type": "code",
      "source": [
        "from tqdm import tqdm\n",
        "amounts = np.array([0.4, 0.45, 0.475, 0.5, 0.525, 0.5, 0.6])\n",
        "accs = []\n",
        "f1s = []\n",
        "for amount in tqdm(amounts):\n",
        "    best_model_pruning = Bert_Model(2).to(device)\n",
        "    load_checkpoint('./model.pt', best_model_pruning)\n",
        "    for name, module in best_model_pruning.named_modules() :\n",
        "        condition = isinstance(module, torch.nn.Linear) and (name.endswith('intermediate.dense') or name.endswith('output.dense') or name.startswith('bert.pooler.'))\n",
        "        condition = condition and (not name.endswith('attention.output.dense')) and (not name.endswith('pooler.dense'))\n",
        "        if condition:\n",
        "            # print(name, module)\n",
        "            prune.l1_unstructured(module, name='weight', amount=amount)#0.3 nice\n",
        "            prune.remove(module, 'weight')\n",
        "    acc, f1 = eval_metrics(best_model_pruning, test_iter)\n",
        "    accs.append(acc)\n",
        "    f1s.append(f1)\n",
        "accs = np.array(accs)\n",
        "# f1s = np.array(f1s)\n",
        "plt.plot(amounts, accs,label='accuracy')\n",
        "# plt.plot(f1s, accs,label='f1-score')\n",
        "# plt.axhline(count_parameters(best_model_clear),color='r', label='Original model')\n",
        "plt.xlabel('amount of pruned weights')\n",
        "plt.ylabel('metric')\n",
        "plt.title('l1-pruning')\n",
        "plt.legend()\n",
        "plt.show()"
      ],
      "metadata": {
        "colab": {
          "base_uri": "https://localhost:8080/",
          "height": 819
        },
        "id": "kTp88PHHgOyS",
        "outputId": "38cbea55-1218-416b-89c0-331b51f82351"
      },
      "execution_count": 15,
      "outputs": [
        {
          "output_type": "stream",
          "name": "stderr",
          "text": [
            "\r  0%|          | 0/7 [00:00<?, ?it/s]Some weights of the model checkpoint at bert-base-uncased were not used when initializing BertModel: ['cls.predictions.transform.LayerNorm.weight', 'cls.predictions.bias', 'cls.predictions.transform.dense.bias', 'cls.predictions.transform.dense.weight', 'cls.seq_relationship.weight', 'cls.predictions.decoder.weight', 'cls.predictions.transform.LayerNorm.bias', 'cls.seq_relationship.bias']\n",
            "- This IS expected if you are initializing BertModel from the checkpoint of a model trained on another task or with another architecture (e.g. initializing a BertForSequenceClassification model from a BertForPreTraining model).\n",
            "- This IS NOT expected if you are initializing BertModel from the checkpoint of a model that you expect to be exactly identical (initializing a BertForSequenceClassification model from a BertForSequenceClassification model).\n"
          ]
        },
        {
          "output_type": "stream",
          "name": "stdout",
          "text": [
            "Model loaded from <== ./model.pt\n"
          ]
        },
        {
          "output_type": "stream",
          "name": "stderr",
          "text": [
            "\r 14%|█▍        | 1/7 [00:46<04:41, 46.97s/it]Some weights of the model checkpoint at bert-base-uncased were not used when initializing BertModel: ['cls.predictions.transform.LayerNorm.weight', 'cls.predictions.bias', 'cls.predictions.transform.dense.bias', 'cls.predictions.transform.dense.weight', 'cls.seq_relationship.weight', 'cls.predictions.decoder.weight', 'cls.predictions.transform.LayerNorm.bias', 'cls.seq_relationship.bias']\n",
            "- This IS expected if you are initializing BertModel from the checkpoint of a model trained on another task or with another architecture (e.g. initializing a BertForSequenceClassification model from a BertForPreTraining model).\n",
            "- This IS NOT expected if you are initializing BertModel from the checkpoint of a model that you expect to be exactly identical (initializing a BertForSequenceClassification model from a BertForSequenceClassification model).\n"
          ]
        },
        {
          "output_type": "stream",
          "name": "stdout",
          "text": [
            "Model loaded from <== ./model.pt\n"
          ]
        },
        {
          "output_type": "stream",
          "name": "stderr",
          "text": [
            "\r 29%|██▊       | 2/7 [01:35<03:59, 47.97s/it]Some weights of the model checkpoint at bert-base-uncased were not used when initializing BertModel: ['cls.predictions.transform.LayerNorm.weight', 'cls.predictions.bias', 'cls.predictions.transform.dense.bias', 'cls.predictions.transform.dense.weight', 'cls.seq_relationship.weight', 'cls.predictions.decoder.weight', 'cls.predictions.transform.LayerNorm.bias', 'cls.seq_relationship.bias']\n",
            "- This IS expected if you are initializing BertModel from the checkpoint of a model trained on another task or with another architecture (e.g. initializing a BertForSequenceClassification model from a BertForPreTraining model).\n",
            "- This IS NOT expected if you are initializing BertModel from the checkpoint of a model that you expect to be exactly identical (initializing a BertForSequenceClassification model from a BertForSequenceClassification model).\n"
          ]
        },
        {
          "output_type": "stream",
          "name": "stdout",
          "text": [
            "Model loaded from <== ./model.pt\n"
          ]
        },
        {
          "output_type": "stream",
          "name": "stderr",
          "text": [
            "\r 43%|████▎     | 3/7 [02:23<03:11, 47.80s/it]Some weights of the model checkpoint at bert-base-uncased were not used when initializing BertModel: ['cls.predictions.transform.LayerNorm.weight', 'cls.predictions.bias', 'cls.predictions.transform.dense.bias', 'cls.predictions.transform.dense.weight', 'cls.seq_relationship.weight', 'cls.predictions.decoder.weight', 'cls.predictions.transform.LayerNorm.bias', 'cls.seq_relationship.bias']\n",
            "- This IS expected if you are initializing BertModel from the checkpoint of a model trained on another task or with another architecture (e.g. initializing a BertForSequenceClassification model from a BertForPreTraining model).\n",
            "- This IS NOT expected if you are initializing BertModel from the checkpoint of a model that you expect to be exactly identical (initializing a BertForSequenceClassification model from a BertForSequenceClassification model).\n"
          ]
        },
        {
          "output_type": "stream",
          "name": "stdout",
          "text": [
            "Model loaded from <== ./model.pt\n"
          ]
        },
        {
          "output_type": "stream",
          "name": "stderr",
          "text": [
            "\r 57%|█████▋    | 4/7 [03:11<02:23, 47.80s/it]Some weights of the model checkpoint at bert-base-uncased were not used when initializing BertModel: ['cls.predictions.transform.LayerNorm.weight', 'cls.predictions.bias', 'cls.predictions.transform.dense.bias', 'cls.predictions.transform.dense.weight', 'cls.seq_relationship.weight', 'cls.predictions.decoder.weight', 'cls.predictions.transform.LayerNorm.bias', 'cls.seq_relationship.bias']\n",
            "- This IS expected if you are initializing BertModel from the checkpoint of a model trained on another task or with another architecture (e.g. initializing a BertForSequenceClassification model from a BertForPreTraining model).\n",
            "- This IS NOT expected if you are initializing BertModel from the checkpoint of a model that you expect to be exactly identical (initializing a BertForSequenceClassification model from a BertForSequenceClassification model).\n"
          ]
        },
        {
          "output_type": "stream",
          "name": "stdout",
          "text": [
            "Model loaded from <== ./model.pt\n"
          ]
        },
        {
          "output_type": "stream",
          "name": "stderr",
          "text": [
            "\r 71%|███████▏  | 5/7 [03:58<01:35, 47.72s/it]Some weights of the model checkpoint at bert-base-uncased were not used when initializing BertModel: ['cls.predictions.transform.LayerNorm.weight', 'cls.predictions.bias', 'cls.predictions.transform.dense.bias', 'cls.predictions.transform.dense.weight', 'cls.seq_relationship.weight', 'cls.predictions.decoder.weight', 'cls.predictions.transform.LayerNorm.bias', 'cls.seq_relationship.bias']\n",
            "- This IS expected if you are initializing BertModel from the checkpoint of a model trained on another task or with another architecture (e.g. initializing a BertForSequenceClassification model from a BertForPreTraining model).\n",
            "- This IS NOT expected if you are initializing BertModel from the checkpoint of a model that you expect to be exactly identical (initializing a BertForSequenceClassification model from a BertForSequenceClassification model).\n"
          ]
        },
        {
          "output_type": "stream",
          "name": "stdout",
          "text": [
            "Model loaded from <== ./model.pt\n"
          ]
        },
        {
          "output_type": "stream",
          "name": "stderr",
          "text": [
            "\r 86%|████████▌ | 6/7 [04:47<00:48, 48.19s/it]Some weights of the model checkpoint at bert-base-uncased were not used when initializing BertModel: ['cls.predictions.transform.LayerNorm.weight', 'cls.predictions.bias', 'cls.predictions.transform.dense.bias', 'cls.predictions.transform.dense.weight', 'cls.seq_relationship.weight', 'cls.predictions.decoder.weight', 'cls.predictions.transform.LayerNorm.bias', 'cls.seq_relationship.bias']\n",
            "- This IS expected if you are initializing BertModel from the checkpoint of a model trained on another task or with another architecture (e.g. initializing a BertForSequenceClassification model from a BertForPreTraining model).\n",
            "- This IS NOT expected if you are initializing BertModel from the checkpoint of a model that you expect to be exactly identical (initializing a BertForSequenceClassification model from a BertForSequenceClassification model).\n"
          ]
        },
        {
          "output_type": "stream",
          "name": "stdout",
          "text": [
            "Model loaded from <== ./model.pt\n"
          ]
        },
        {
          "output_type": "stream",
          "name": "stderr",
          "text": [
            "100%|██████████| 7/7 [05:34<00:00, 47.85s/it]\n"
          ]
        },
        {
          "output_type": "display_data",
          "data": {
            "text/plain": [
              "<Figure size 432x288 with 1 Axes>"
            ],
            "image/png": "[encoded data removed]"
          },
          "metadata": {
            "needs_background": "light"
          }
        }
      ]
    },
    {
      "cell_type": "code",
      "source": [
        "best_model_SVD = Bert_Model(2).to(device)\n",
        "\n",
        "load_checkpoint('./model.pt', best_model_SVD)"
      ],
      "metadata": {
        "colab": {
          "base_uri": "https://localhost:8080/"
        },
        "id": "HPsItFMUgTWK",
        "outputId": "b4fd5ac4-bc71-4813-f271-fe751cfbdcd2"
      },
      "execution_count": 16,
      "outputs": [
        {
          "output_type": "stream",
          "name": "stderr",
          "text": [
            "Some weights of the model checkpoint at bert-base-uncased were not used when initializing BertModel: ['cls.predictions.transform.LayerNorm.weight', 'cls.predictions.bias', 'cls.predictions.transform.dense.bias', 'cls.predictions.transform.dense.weight', 'cls.seq_relationship.weight', 'cls.predictions.decoder.weight', 'cls.predictions.transform.LayerNorm.bias', 'cls.seq_relationship.bias']\n",
            "- This IS expected if you are initializing BertModel from the checkpoint of a model trained on another task or with another architecture (e.g. initializing a BertForSequenceClassification model from a BertForPreTraining model).\n",
            "- This IS NOT expected if you are initializing BertModel from the checkpoint of a model that you expect to be exactly identical (initializing a BertForSequenceClassification model from a BertForSequenceClassification model).\n"
          ]
        },
        {
          "output_type": "stream",
          "name": "stdout",
          "text": [
            "Model loaded from <== ./model.pt\n"
          ]
        },
        {
          "output_type": "execute_result",
          "data": {
            "text/plain": [
              "0.07210410782868194"
            ]
          },
          "metadata": {},
          "execution_count": 16
        }
      ]
    },
    {
      "cell_type": "code",
      "source": [
        "from tqdm import tqdm\n",
        "class SVD_dec(nn.Module):\n",
        "    def __init__(self,input_size, output_size, r):\n",
        "        super(SVD_dec, self).__init__()\n",
        "        self.lin0 = nn.Linear(in_features=input_size, out_features=r, bias=False)\n",
        "        self.lin1 = nn.Linear(in_features=r, out_features=r, bias=False)\n",
        "        self.lin2 = nn.Linear(in_features=r, out_features=output_size, bias=True)\n",
        "\n",
        "    def forward(self, x):\n",
        "        # print(f'x_shape{x.size()}, self.lin0:{self.lin0.weight}')\n",
        "        output = self.lin0(x)\n",
        "        # print(f'output_shape{output.size()}, self.lin0:{self.lin1}')\n",
        "        output = self.lin1(output)\n",
        "        output = self.lin2(output)\n",
        "        return output\n",
        "\n",
        "rs_svd = []\n",
        "accs_svd = []\n",
        "f1s_svd = []\n",
        "sizes_svd = []\n",
        "time_spent = []\n",
        "for r in tqdm(range(670, 761, 10)):\n",
        "    rs_svd.append(r)\n",
        "    best_model_SVD = Bert_Model(2).to(device)\n",
        "    load_checkpoint('./model.pt', best_model_SVD)\n",
        "    # for name, module in best_model_SVD.named_modules() :\n",
        "    for i in tqdm(range(12)):\n",
        "        best_model_SVD.bert.encoder.layer[i].intermediate.dense = SVD_dec(768,3072,r)#nn.ModuleList([nn.Linear(in_features=768, out_features=r, bias=False),\n",
        "                                                              # nn.Linear(in_features=r, out_features=r, bias=False),\n",
        "                                                              # nn.Linear(in_features=r, out_features=3072, bias=True)])\n",
        "        u, s, v = torch.linalg.svd(best_model_clear.bert.encoder.layer[i].intermediate.dense.weight)\n",
        "        bias = best_model_clear.bert.encoder.layer[i].intermediate.dense.bias\n",
        "        U = u[:,:r]\n",
        "        S = s[:r]\n",
        "        V = v[:r,:]\n",
        "        best_model_SVD.bert.encoder.layer[i].intermediate.dense.lin0.weight = torch.nn.Parameter(torch.Tensor(V).to(device))\n",
        "        best_model_SVD.bert.encoder.layer[i].intermediate.dense.lin1.weight = torch.nn.Parameter(torch.Tensor(torch.diag(S)).to(device))\n",
        "        best_model_SVD.bert.encoder.layer[i].intermediate.dense.lin2.weight = torch.nn.Parameter(torch.Tensor(U).to(device))\n",
        "        best_model_SVD.bert.encoder.layer[i].intermediate.dense.lin2.bias = torch.nn.Parameter(bias.to(device))\n",
        "        \n",
        "        best_model_SVD.bert.encoder.layer[i].output.dense = SVD_dec(3072,768,r)#nn.ModuleList([nn.Linear(in_features=3072, out_features=r, bias=False),\n",
        "                                                              # nn.Linear(in_features=r, out_features=r, bias=False),\n",
        "                                                              # nn.Linear(in_features=r, out_features=768, bias=True)])\n",
        "        u, s, v = torch.linalg.svd(best_model_clear.bert.encoder.layer[i].output.dense.weight)\n",
        "        bias = best_model_clear.bert.encoder.layer[i].output.dense.bias\n",
        "        U = u[:,:r]\n",
        "        S = s[:r]\n",
        "        V = v[:r,:]\n",
        "        best_model_SVD.bert.encoder.layer[i].output.dense.lin0.weight = torch.nn.Parameter(torch.Tensor(V).to(device))\n",
        "        best_model_SVD.bert.encoder.layer[i].output.dense.lin1.weight = torch.nn.Parameter(torch.Tensor(torch.diag(S)).to(device))\n",
        "        best_model_SVD.bert.encoder.layer[i].output.dense.lin2.weight = torch.nn.Parameter(torch.Tensor(U).to(device))\n",
        "        best_model_SVD.bert.encoder.layer[i].output.dense.lin2.bias = torch.nn.Parameter(bias.to(device))\n",
        "    start = time.time()\n",
        "    acc, f1 = eval_metrics(best_model_SVD, test_iter)\n",
        "    total_time = time.time() - start\n",
        "    time_spent.append(total_time)\n",
        "    accs_svd.append(acc)\n",
        "    f1s_svd.append(f1)\n",
        "    sizes_svd.append(best_model_SVD.bert.get_memory_footprint() / 1024 / 1024)\n",
        "    # optimizer = optim.Adam(model.parameters(), lr=2e-5)\n",
        "\n",
        "    # validate(model=best_model, optimizer=optimizer, num_epochs=5)\n",
        "    # evaluate(best_model, test_iter)"
      ],
      "metadata": {
        "colab": {
          "base_uri": "https://localhost:8080/"
        },
        "id": "vlxBNGOwgWqG",
        "outputId": "004bee93-48bb-4604-c863-869f4223dc30"
      },
      "execution_count": 17,
      "outputs": [
        {
          "output_type": "stream",
          "name": "stderr",
          "text": [
            "\r  0%|          | 0/10 [00:00<?, ?it/s]Some weights of the model checkpoint at bert-base-uncased were not used when initializing BertModel: ['cls.predictions.transform.LayerNorm.weight', 'cls.predictions.bias', 'cls.predictions.transform.dense.bias', 'cls.predictions.transform.dense.weight', 'cls.seq_relationship.weight', 'cls.predictions.decoder.weight', 'cls.predictions.transform.LayerNorm.bias', 'cls.seq_relationship.bias']\n",
            "- This IS expected if you are initializing BertModel from the checkpoint of a model trained on another task or with another architecture (e.g. initializing a BertForSequenceClassification model from a BertForPreTraining model).\n",
            "- This IS NOT expected if you are initializing BertModel from the checkpoint of a model that you expect to be exactly identical (initializing a BertForSequenceClassification model from a BertForSequenceClassification model).\n"
          ]
        },
        {
          "output_type": "stream",
          "name": "stdout",
          "text": [
            "Model loaded from <== ./model.pt\n"
          ]
        },
        {
          "output_type": "stream",
          "name": "stderr",
          "text": [
            "\n",
            "  0%|          | 0/12 [00:00<?, ?it/s]\u001b[A\n",
            "  8%|▊         | 1/12 [00:01<00:16,  1.54s/it]\u001b[A\n",
            " 17%|█▋        | 2/12 [00:01<00:07,  1.29it/s]\u001b[A\n",
            " 25%|██▌       | 3/12 [00:02<00:04,  1.90it/s]\u001b[A\n",
            " 33%|███▎      | 4/12 [00:02<00:03,  2.44it/s]\u001b[A\n",
            " 42%|████▏     | 5/12 [00:02<00:02,  2.88it/s]\u001b[A\n",
            " 50%|█████     | 6/12 [00:02<00:01,  3.24it/s]\u001b[A\n",
            " 58%|█████▊    | 7/12 [00:02<00:01,  3.52it/s]\u001b[A\n",
            " 67%|██████▋   | 8/12 [00:03<00:01,  3.73it/s]\u001b[A\n",
            " 75%|███████▌  | 9/12 [00:03<00:00,  3.88it/s]\u001b[A\n",
            " 83%|████████▎ | 10/12 [00:03<00:00,  4.01it/s]\u001b[A\n",
            " 92%|█████████▏| 11/12 [00:03<00:00,  4.10it/s]\u001b[A\n",
            "100%|██████████| 12/12 [00:04<00:00,  2.91it/s]\n",
            " 10%|█         | 1/10 [01:02<09:23, 62.58s/it]Some weights of the model checkpoint at bert-base-uncased were not used when initializing BertModel: ['cls.predictions.transform.LayerNorm.weight', 'cls.predictions.bias', 'cls.predictions.transform.dense.bias', 'cls.predictions.transform.dense.weight', 'cls.seq_relationship.weight', 'cls.predictions.decoder.weight', 'cls.predictions.transform.LayerNorm.bias', 'cls.seq_relationship.bias']\n",
            "- This IS expected if you are initializing BertModel from the checkpoint of a model trained on another task or with another architecture (e.g. initializing a BertForSequenceClassification model from a BertForPreTraining model).\n",
            "- This IS NOT expected if you are initializing BertModel from the checkpoint of a model that you expect to be exactly identical (initializing a BertForSequenceClassification model from a BertForSequenceClassification model).\n"
          ]
        },
        {
          "output_type": "stream",
          "name": "stdout",
          "text": [
            "Model loaded from <== ./model.pt\n"
          ]
        },
        {
          "output_type": "stream",
          "name": "stderr",
          "text": [
            "\n",
            "  0%|          | 0/12 [00:00<?, ?it/s]\u001b[A\n",
            "  8%|▊         | 1/12 [00:00<00:03,  3.21it/s]\u001b[A\n",
            " 17%|█▋        | 2/12 [00:00<00:02,  3.76it/s]\u001b[A\n",
            " 25%|██▌       | 3/12 [00:00<00:02,  4.00it/s]\u001b[A\n",
            " 33%|███▎      | 4/12 [00:01<00:01,  4.05it/s]\u001b[A\n",
            " 42%|████▏     | 5/12 [00:01<00:01,  4.14it/s]\u001b[A\n",
            " 50%|█████     | 6/12 [00:01<00:01,  4.17it/s]\u001b[A\n",
            " 58%|█████▊    | 7/12 [00:01<00:01,  4.20it/s]\u001b[A\n",
            " 67%|██████▋   | 8/12 [00:01<00:00,  4.22it/s]\u001b[A\n",
            " 75%|███████▌  | 9/12 [00:02<00:00,  4.24it/s]\u001b[A\n",
            " 83%|████████▎ | 10/12 [00:02<00:00,  4.27it/s]\u001b[A\n",
            " 92%|█████████▏| 11/12 [00:02<00:00,  4.28it/s]\u001b[A\n",
            "100%|██████████| 12/12 [00:02<00:00,  4.14it/s]\n",
            " 20%|██        | 2/10 [02:03<08:12, 61.62s/it]Some weights of the model checkpoint at bert-base-uncased were not used when initializing BertModel: ['cls.predictions.transform.LayerNorm.weight', 'cls.predictions.bias', 'cls.predictions.transform.dense.bias', 'cls.predictions.transform.dense.weight', 'cls.seq_relationship.weight', 'cls.predictions.decoder.weight', 'cls.predictions.transform.LayerNorm.bias', 'cls.seq_relationship.bias']\n",
            "- This IS expected if you are initializing BertModel from the checkpoint of a model trained on another task or with another architecture (e.g. initializing a BertForSequenceClassification model from a BertForPreTraining model).\n",
            "- This IS NOT expected if you are initializing BertModel from the checkpoint of a model that you expect to be exactly identical (initializing a BertForSequenceClassification model from a BertForSequenceClassification model).\n"
          ]
        },
        {
          "output_type": "stream",
          "name": "stdout",
          "text": [
            "Model loaded from <== ./model.pt\n"
          ]
        },
        {
          "output_type": "stream",
          "name": "stderr",
          "text": [
            "\n",
            "  0%|          | 0/12 [00:00<?, ?it/s]\u001b[A\n",
            "  8%|▊         | 1/12 [00:00<00:03,  3.29it/s]\u001b[A\n",
            " 17%|█▋        | 2/12 [00:00<00:02,  3.79it/s]\u001b[A\n",
            " 25%|██▌       | 3/12 [00:00<00:02,  4.02it/s]\u001b[A\n",
            " 33%|███▎      | 4/12 [00:01<00:01,  4.11it/s]\u001b[A\n",
            " 42%|████▏     | 5/12 [00:01<00:01,  4.18it/s]\u001b[A\n",
            " 50%|█████     | 6/12 [00:01<00:01,  4.20it/s]\u001b[A\n",
            " 58%|█████▊    | 7/12 [00:01<00:01,  4.23it/s]\u001b[A\n",
            " 67%|██████▋   | 8/12 [00:01<00:00,  4.23it/s]\u001b[A\n",
            " 75%|███████▌  | 9/12 [00:02<00:00,  4.20it/s]\u001b[A\n",
            " 83%|████████▎ | 10/12 [00:02<00:00,  4.24it/s]\u001b[A\n",
            " 92%|█████████▏| 11/12 [00:02<00:00,  4.24it/s]\u001b[A\n",
            "100%|██████████| 12/12 [00:02<00:00,  4.15it/s]\n",
            " 30%|███       | 3/10 [03:05<07:11, 61.69s/it]Some weights of the model checkpoint at bert-base-uncased were not used when initializing BertModel: ['cls.predictions.transform.LayerNorm.weight', 'cls.predictions.bias', 'cls.predictions.transform.dense.bias', 'cls.predictions.transform.dense.weight', 'cls.seq_relationship.weight', 'cls.predictions.decoder.weight', 'cls.predictions.transform.LayerNorm.bias', 'cls.seq_relationship.bias']\n",
            "- This IS expected if you are initializing BertModel from the checkpoint of a model trained on another task or with another architecture (e.g. initializing a BertForSequenceClassification model from a BertForPreTraining model).\n",
            "- This IS NOT expected if you are initializing BertModel from the checkpoint of a model that you expect to be exactly identical (initializing a BertForSequenceClassification model from a BertForSequenceClassification model).\n"
          ]
        },
        {
          "output_type": "stream",
          "name": "stdout",
          "text": [
            "Model loaded from <== ./model.pt\n"
          ]
        },
        {
          "output_type": "stream",
          "name": "stderr",
          "text": [
            "\n",
            "  0%|          | 0/12 [00:00<?, ?it/s]\u001b[A\n",
            "  8%|▊         | 1/12 [00:00<00:03,  3.29it/s]\u001b[A\n",
            " 17%|█▋        | 2/12 [00:00<00:02,  3.78it/s]\u001b[A\n",
            " 25%|██▌       | 3/12 [00:00<00:02,  4.01it/s]\u001b[A\n",
            " 33%|███▎      | 4/12 [00:01<00:01,  4.09it/s]\u001b[A\n",
            " 42%|████▏     | 5/12 [00:01<00:01,  4.16it/s]\u001b[A\n",
            " 50%|█████     | 6/12 [00:01<00:01,  4.20it/s]\u001b[A\n",
            " 58%|█████▊    | 7/12 [00:01<00:01,  4.22it/s]\u001b[A\n",
            " 67%|██████▋   | 8/12 [00:01<00:00,  4.22it/s]\u001b[A\n",
            " 75%|███████▌  | 9/12 [00:02<00:00,  4.19it/s]\u001b[A\n",
            " 83%|████████▎ | 10/12 [00:02<00:00,  4.19it/s]\u001b[A\n",
            " 92%|█████████▏| 11/12 [00:02<00:00,  4.17it/s]\u001b[A\n",
            "100%|██████████| 12/12 [00:02<00:00,  4.11it/s]\n",
            " 40%|████      | 4/10 [04:07<06:11, 61.99s/it]Some weights of the model checkpoint at bert-base-uncased were not used when initializing BertModel: ['cls.predictions.transform.LayerNorm.weight', 'cls.predictions.bias', 'cls.predictions.transform.dense.bias', 'cls.predictions.transform.dense.weight', 'cls.seq_relationship.weight', 'cls.predictions.decoder.weight', 'cls.predictions.transform.LayerNorm.bias', 'cls.seq_relationship.bias']\n",
            "- This IS expected if you are initializing BertModel from the checkpoint of a model trained on another task or with another architecture (e.g. initializing a BertForSequenceClassification model from a BertForPreTraining model).\n",
            "- This IS NOT expected if you are initializing BertModel from the checkpoint of a model that you expect to be exactly identical (initializing a BertForSequenceClassification model from a BertForSequenceClassification model).\n"
          ]
        },
        {
          "output_type": "stream",
          "name": "stdout",
          "text": [
            "Model loaded from <== ./model.pt\n"
          ]
        },
        {
          "output_type": "stream",
          "name": "stderr",
          "text": [
            "\n",
            "  0%|          | 0/12 [00:00<?, ?it/s]\u001b[A\n",
            "  8%|▊         | 1/12 [00:00<00:03,  2.93it/s]\u001b[A\n",
            " 17%|█▋        | 2/12 [00:00<00:02,  3.56it/s]\u001b[A\n",
            " 25%|██▌       | 3/12 [00:00<00:02,  3.85it/s]\u001b[A\n",
            " 33%|███▎      | 4/12 [00:01<00:02,  3.97it/s]\u001b[A\n",
            " 42%|████▏     | 5/12 [00:01<00:01,  4.01it/s]\u001b[A\n",
            " 50%|█████     | 6/12 [00:01<00:01,  4.06it/s]\u001b[A\n",
            " 58%|█████▊    | 7/12 [00:01<00:01,  4.11it/s]\u001b[A\n",
            " 67%|██████▋   | 8/12 [00:02<00:00,  4.14it/s]\u001b[A\n",
            " 75%|███████▌  | 9/12 [00:02<00:00,  4.16it/s]\u001b[A\n",
            " 83%|████████▎ | 10/12 [00:02<00:00,  4.17it/s]\u001b[A\n",
            " 92%|█████████▏| 11/12 [00:02<00:00,  4.21it/s]\u001b[A\n",
            "100%|██████████| 12/12 [00:02<00:00,  4.04it/s]\n",
            " 50%|█████     | 5/10 [05:06<05:03, 60.80s/it]Some weights of the model checkpoint at bert-base-uncased were not used when initializing BertModel: ['cls.predictions.transform.LayerNorm.weight', 'cls.predictions.bias', 'cls.predictions.transform.dense.bias', 'cls.predictions.transform.dense.weight', 'cls.seq_relationship.weight', 'cls.predictions.decoder.weight', 'cls.predictions.transform.LayerNorm.bias', 'cls.seq_relationship.bias']\n",
            "- This IS expected if you are initializing BertModel from the checkpoint of a model trained on another task or with another architecture (e.g. initializing a BertForSequenceClassification model from a BertForPreTraining model).\n",
            "- This IS NOT expected if you are initializing BertModel from the checkpoint of a model that you expect to be exactly identical (initializing a BertForSequenceClassification model from a BertForSequenceClassification model).\n"
          ]
        },
        {
          "output_type": "stream",
          "name": "stdout",
          "text": [
            "Model loaded from <== ./model.pt\n"
          ]
        },
        {
          "output_type": "stream",
          "name": "stderr",
          "text": [
            "\n",
            "  0%|          | 0/12 [00:00<?, ?it/s]\u001b[A\n",
            "  8%|▊         | 1/12 [00:00<00:03,  3.19it/s]\u001b[A\n",
            " 17%|█▋        | 2/12 [00:00<00:02,  3.71it/s]\u001b[A\n",
            " 25%|██▌       | 3/12 [00:00<00:02,  3.95it/s]\u001b[A\n",
            " 33%|███▎      | 4/12 [00:01<00:01,  4.07it/s]\u001b[A\n",
            " 42%|████▏     | 5/12 [00:01<00:01,  4.10it/s]\u001b[A\n",
            " 50%|█████     | 6/12 [00:01<00:01,  4.14it/s]\u001b[A\n",
            " 58%|█████▊    | 7/12 [00:01<00:01,  4.17it/s]\u001b[A\n",
            " 67%|██████▋   | 8/12 [00:01<00:00,  4.19it/s]\u001b[A\n",
            " 75%|███████▌  | 9/12 [00:02<00:00,  4.19it/s]\u001b[A\n",
            " 83%|████████▎ | 10/12 [00:02<00:00,  4.21it/s]\u001b[A\n",
            " 92%|█████████▏| 11/12 [00:02<00:00,  4.23it/s]\u001b[A\n",
            "100%|██████████| 12/12 [00:02<00:00,  4.11it/s]\n",
            " 60%|██████    | 6/10 [06:04<03:59, 59.91s/it]Some weights of the model checkpoint at bert-base-uncased were not used when initializing BertModel: ['cls.predictions.transform.LayerNorm.weight', 'cls.predictions.bias', 'cls.predictions.transform.dense.bias', 'cls.predictions.transform.dense.weight', 'cls.seq_relationship.weight', 'cls.predictions.decoder.weight', 'cls.predictions.transform.LayerNorm.bias', 'cls.seq_relationship.bias']\n",
            "- This IS expected if you are initializing BertModel from the checkpoint of a model trained on another task or with another architecture (e.g. initializing a BertForSequenceClassification model from a BertForPreTraining model).\n",
            "- This IS NOT expected if you are initializing BertModel from the checkpoint of a model that you expect to be exactly identical (initializing a BertForSequenceClassification model from a BertForSequenceClassification model).\n"
          ]
        },
        {
          "output_type": "stream",
          "name": "stdout",
          "text": [
            "Model loaded from <== ./model.pt\n"
          ]
        },
        {
          "output_type": "stream",
          "name": "stderr",
          "text": [
            "\n",
            "  0%|          | 0/12 [00:00<?, ?it/s]\u001b[A\n",
            "  8%|▊         | 1/12 [00:00<00:03,  3.13it/s]\u001b[A\n",
            " 17%|█▋        | 2/12 [00:00<00:02,  3.61it/s]\u001b[A\n",
            " 25%|██▌       | 3/12 [00:00<00:02,  3.86it/s]\u001b[A\n",
            " 33%|███▎      | 4/12 [00:01<00:02,  3.98it/s]\u001b[A\n",
            " 42%|████▏     | 5/12 [00:01<00:01,  4.05it/s]\u001b[A\n",
            " 50%|█████     | 6/12 [00:01<00:01,  4.09it/s]\u001b[A\n",
            " 58%|█████▊    | 7/12 [00:01<00:01,  4.11it/s]\u001b[A\n",
            " 67%|██████▋   | 8/12 [00:02<00:00,  4.12it/s]\u001b[A\n",
            " 75%|███████▌  | 9/12 [00:02<00:00,  4.14it/s]\u001b[A\n",
            " 83%|████████▎ | 10/12 [00:02<00:00,  4.13it/s]\u001b[A\n",
            " 92%|█████████▏| 11/12 [00:02<00:00,  4.15it/s]\u001b[A\n",
            "100%|██████████| 12/12 [00:02<00:00,  4.03it/s]\n",
            " 70%|███████   | 7/10 [07:04<02:59, 59.75s/it]Some weights of the model checkpoint at bert-base-uncased were not used when initializing BertModel: ['cls.predictions.transform.LayerNorm.weight', 'cls.predictions.bias', 'cls.predictions.transform.dense.bias', 'cls.predictions.transform.dense.weight', 'cls.seq_relationship.weight', 'cls.predictions.decoder.weight', 'cls.predictions.transform.LayerNorm.bias', 'cls.seq_relationship.bias']\n",
            "- This IS expected if you are initializing BertModel from the checkpoint of a model trained on another task or with another architecture (e.g. initializing a BertForSequenceClassification model from a BertForPreTraining model).\n",
            "- This IS NOT expected if you are initializing BertModel from the checkpoint of a model that you expect to be exactly identical (initializing a BertForSequenceClassification model from a BertForSequenceClassification model).\n"
          ]
        },
        {
          "output_type": "stream",
          "name": "stdout",
          "text": [
            "Model loaded from <== ./model.pt\n"
          ]
        },
        {
          "output_type": "stream",
          "name": "stderr",
          "text": [
            "\n",
            "  0%|          | 0/12 [00:00<?, ?it/s]\u001b[A\n",
            "  8%|▊         | 1/12 [00:00<00:03,  3.22it/s]\u001b[A\n",
            " 17%|█▋        | 2/12 [00:00<00:02,  3.71it/s]\u001b[A\n",
            " 25%|██▌       | 3/12 [00:00<00:02,  3.94it/s]\u001b[A\n",
            " 33%|███▎      | 4/12 [00:01<00:01,  4.03it/s]\u001b[A\n",
            " 42%|████▏     | 5/12 [00:01<00:01,  4.07it/s]\u001b[A\n",
            " 50%|█████     | 6/12 [00:01<00:01,  4.10it/s]\u001b[A\n",
            " 58%|█████▊    | 7/12 [00:01<00:01,  4.12it/s]\u001b[A\n",
            " 67%|██████▋   | 8/12 [00:01<00:00,  4.14it/s]\u001b[A\n",
            " 75%|███████▌  | 9/12 [00:02<00:00,  4.09it/s]\u001b[A\n",
            " 83%|████████▎ | 10/12 [00:02<00:00,  4.11it/s]\u001b[A\n",
            " 92%|█████████▏| 11/12 [00:02<00:00,  4.15it/s]\u001b[A\n",
            "100%|██████████| 12/12 [00:02<00:00,  4.06it/s]\n",
            " 80%|████████  | 8/10 [08:03<01:59, 59.68s/it]Some weights of the model checkpoint at bert-base-uncased were not used when initializing BertModel: ['cls.predictions.transform.LayerNorm.weight', 'cls.predictions.bias', 'cls.predictions.transform.dense.bias', 'cls.predictions.transform.dense.weight', 'cls.seq_relationship.weight', 'cls.predictions.decoder.weight', 'cls.predictions.transform.LayerNorm.bias', 'cls.seq_relationship.bias']\n",
            "- This IS expected if you are initializing BertModel from the checkpoint of a model trained on another task or with another architecture (e.g. initializing a BertForSequenceClassification model from a BertForPreTraining model).\n",
            "- This IS NOT expected if you are initializing BertModel from the checkpoint of a model that you expect to be exactly identical (initializing a BertForSequenceClassification model from a BertForSequenceClassification model).\n"
          ]
        },
        {
          "output_type": "stream",
          "name": "stdout",
          "text": [
            "Model loaded from <== ./model.pt\n"
          ]
        },
        {
          "output_type": "stream",
          "name": "stderr",
          "text": [
            "\n",
            "  0%|          | 0/12 [00:00<?, ?it/s]\u001b[A\n",
            "  8%|▊         | 1/12 [00:00<00:03,  3.19it/s]\u001b[A\n",
            " 17%|█▋        | 2/12 [00:00<00:02,  3.67it/s]\u001b[A\n",
            " 25%|██▌       | 3/12 [00:00<00:02,  3.91it/s]\u001b[A\n",
            " 33%|███▎      | 4/12 [00:01<00:01,  4.01it/s]\u001b[A\n",
            " 42%|████▏     | 5/12 [00:01<00:01,  4.04it/s]\u001b[A\n",
            " 50%|█████     | 6/12 [00:01<00:01,  4.08it/s]\u001b[A\n",
            " 58%|█████▊    | 7/12 [00:01<00:01,  4.08it/s]\u001b[A\n",
            " 67%|██████▋   | 8/12 [00:02<00:00,  4.06it/s]\u001b[A\n",
            " 75%|███████▌  | 9/12 [00:02<00:00,  4.08it/s]\u001b[A\n",
            " 83%|████████▎ | 10/12 [00:02<00:00,  4.12it/s]\u001b[A\n",
            " 92%|█████████▏| 11/12 [00:02<00:00,  4.15it/s]\u001b[A\n",
            "100%|██████████| 12/12 [00:02<00:00,  4.03it/s]\n",
            " 90%|█████████ | 9/10 [09:03<00:59, 59.73s/it]Some weights of the model checkpoint at bert-base-uncased were not used when initializing BertModel: ['cls.predictions.transform.LayerNorm.weight', 'cls.predictions.bias', 'cls.predictions.transform.dense.bias', 'cls.predictions.transform.dense.weight', 'cls.seq_relationship.weight', 'cls.predictions.decoder.weight', 'cls.predictions.transform.LayerNorm.bias', 'cls.seq_relationship.bias']\n",
            "- This IS expected if you are initializing BertModel from the checkpoint of a model trained on another task or with another architecture (e.g. initializing a BertForSequenceClassification model from a BertForPreTraining model).\n",
            "- This IS NOT expected if you are initializing BertModel from the checkpoint of a model that you expect to be exactly identical (initializing a BertForSequenceClassification model from a BertForSequenceClassification model).\n"
          ]
        },
        {
          "output_type": "stream",
          "name": "stdout",
          "text": [
            "Model loaded from <== ./model.pt\n"
          ]
        },
        {
          "output_type": "stream",
          "name": "stderr",
          "text": [
            "\n",
            "  0%|          | 0/12 [00:00<?, ?it/s]\u001b[A\n",
            "  8%|▊         | 1/12 [00:00<00:03,  2.85it/s]\u001b[A\n",
            " 17%|█▋        | 2/12 [00:00<00:02,  3.44it/s]\u001b[A\n",
            " 25%|██▌       | 3/12 [00:00<00:02,  3.71it/s]\u001b[A\n",
            " 33%|███▎      | 4/12 [00:01<00:02,  3.85it/s]\u001b[A\n",
            " 42%|████▏     | 5/12 [00:01<00:01,  3.94it/s]\u001b[A\n",
            " 50%|█████     | 6/12 [00:01<00:01,  3.97it/s]\u001b[A\n",
            " 58%|█████▊    | 7/12 [00:01<00:01,  4.00it/s]\u001b[A\n",
            " 67%|██████▋   | 8/12 [00:02<00:00,  4.02it/s]\u001b[A\n",
            " 75%|███████▌  | 9/12 [00:02<00:00,  4.05it/s]\u001b[A\n",
            " 83%|████████▎ | 10/12 [00:02<00:00,  4.08it/s]\u001b[A\n",
            " 92%|█████████▏| 11/12 [00:02<00:00,  4.09it/s]\u001b[A\n",
            "100%|██████████| 12/12 [00:03<00:00,  3.93it/s]\n",
            "100%|██████████| 10/10 [10:03<00:00, 60.33s/it]\n"
          ]
        }
      ]
    },
    {
      "cell_type": "code",
      "source": [
        "accs_svd = np.array(accs_svd)\n",
        "plt.plot(rs_svd, accs_svd,label='accuracy')\n",
        "plt.xlabel('rank')\n",
        "plt.ylabel('accuracy')\n",
        "plt.title('svd')\n",
        "plt.legend()\n",
        "plt.show()\n",
        "\n",
        "f1s_svd = np.array(f1s_svd)\n",
        "plt.plot(rs_svd, f1s_svd,label='f1')\n",
        "plt.xlabel('rank')\n",
        "plt.ylabel('f1-score')\n",
        "plt.title('svd')\n",
        "plt.legend()\n",
        "plt.show()\n",
        "\n",
        "sizes_svd = np.array(sizes_svd)\n",
        "plt.plot(rs_svd, sizes_svd,label='model size')\n",
        "plt.xlabel('rank')\n",
        "plt.ylabel('size')\n",
        "plt.title('svd')\n",
        "plt.legend()\n",
        "plt.show()\n",
        "\n",
        "time_spent = np.array(time_spent)\n",
        "plt.plot(rs_svd, time_spent,label='time for validation')\n",
        "plt.xlabel('rank')\n",
        "plt.ylabel('time')\n",
        "plt.title('svd')\n",
        "plt.legend()\n",
        "plt.show()"
      ],
      "metadata": {
        "colab": {
          "base_uri": "https://localhost:8080/",
          "height": 1000
        },
        "id": "4W0FfGcPghbb",
        "outputId": "0a2370d5-7d79-420a-cd39-8c2641ad86fb"
      },
      "execution_count": 18,
      "outputs": [
        {
          "output_type": "display_data",
          "data": {
            "text/plain": [
              "<Figure size 432x288 with 1 Axes>"
            ],
            "image/png": "[encoded data removed]"
          },
          "metadata": {
            "needs_background": "light"
          }
        },
        {
          "output_type": "display_data",
          "data": {
            "text/plain": [
              "<Figure size 432x288 with 1 Axes>"
            ],
            "image/png": "[encoded data removed]"
          },
          "metadata": {
            "needs_background": "light"
          }
        },
        {
          "output_type": "display_data",
          "data": {
            "text/plain": [
              "<Figure size 432x288 with 1 Axes>"
            ],
            "image/png": "[encoded data removed]"
          },
          "metadata": {
            "needs_background": "light"
          }
        },
        {
          "output_type": "display_data",
          "data": {
            "text/plain": [
              "<Figure size 432x288 with 1 Axes>"
            ],
            "image/png": "[encoded data removed]"
          },
          "metadata": {
            "needs_background": "light"
          }
        }
      ]
    },
    {
      "cell_type": "code",
      "source": [],
      "metadata": {
        "id": "yqBNCDHrglOo"
      },
      "execution_count": null,
      "outputs": []
    }
  ]
}